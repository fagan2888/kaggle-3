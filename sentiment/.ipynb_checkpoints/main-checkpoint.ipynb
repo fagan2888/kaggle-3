{
 "metadata": {
  "name": "",
  "signature": "sha256:d5e68e588555b1c2f5ab2694de21c4439c904f2035465a86af13499d0de8cc5e"
 },
 "nbformat": 3,
 "nbformat_minor": 0,
 "worksheets": [
  {
   "cells": [
    {
     "cell_type": "code",
     "collapsed": false,
     "input": [
      "import numpy as np\n",
      "import csv\n",
      "import pandas as pd\n",
      "\n",
      "\n",
      "train = pd.read_csv('train.tsv',sep='\\t',header=0)\n",
      "test = pd.read_csv('test.tsv',sep='\\t',header=0)\n",
      "print train.shape, test.shape"
     ],
     "language": "python",
     "metadata": {},
     "outputs": [
      {
       "output_type": "stream",
       "stream": "stdout",
       "text": [
        "(156060, 4) (66292, 3)\n"
       ]
      }
     ],
     "prompt_number": 112
    },
    {
     "cell_type": "code",
     "collapsed": false,
     "input": [
      "print train.keys()\n",
      "print train['Phrase']"
     ],
     "language": "python",
     "metadata": {},
     "outputs": [
      {
       "output_type": "stream",
       "stream": "stdout",
       "text": [
        "Index([u'PhraseId', u'SentenceId', u'Phrase', u'Sentiment'], dtype='object')\n",
        "0     A series of escapades demonstrating the adage ...\n",
        "1     A series of escapades demonstrating the adage ...\n",
        "2                                              A series\n",
        "3                                                     A\n",
        "4                                                series\n",
        "5     of escapades demonstrating the adage that what...\n",
        "6                                                    of\n",
        "7     escapades demonstrating the adage that what is...\n",
        "8                                             escapades\n",
        "9     demonstrating the adage that what is good for ...\n",
        "10                              demonstrating the adage\n",
        "11                                        demonstrating\n",
        "12                                            the adage\n",
        "13                                                  the\n",
        "14                                                adage\n",
        "...\n",
        "156045    Herrmann quietly suggesting the sadness and ob...\n",
        "156046                                             Herrmann\n",
        "156047    quietly suggesting the sadness and obsession b...\n",
        "156048    suggesting the sadness and obsession beneath H...\n",
        "156049                 suggesting the sadness and obsession\n",
        "156050                            the sadness and obsession\n",
        "156051                                sadness and obsession\n",
        "156052                                          sadness and\n",
        "156053          beneath Hearst 's forced avuncular chortles\n",
        "156054                  Hearst 's forced avuncular chortles\n",
        "156055                                            Hearst 's\n",
        "156056                            forced avuncular chortles\n",
        "156057                                   avuncular chortles\n",
        "156058                                            avuncular\n",
        "156059                                             chortles\n",
        "Name: Phrase, Length: 156060, dtype: object\n"
       ]
      }
     ],
     "prompt_number": 23
    },
    {
     "cell_type": "code",
     "collapsed": false,
     "input": [
      "import sklearn.feature_extraction.text as text\n",
      "tfidf_vec = text.TfidfVectorizer()\n",
      "train['Phrase']"
     ],
     "language": "python",
     "metadata": {},
     "outputs": [
      {
       "metadata": {},
       "output_type": "pyout",
       "prompt_number": 25,
       "text": [
        "0     A series of escapades demonstrating the adage ...\n",
        "1     A series of escapades demonstrating the adage ...\n",
        "2                                              A series\n",
        "3                                                     A\n",
        "4                                                series\n",
        "5     of escapades demonstrating the adage that what...\n",
        "6                                                    of\n",
        "7     escapades demonstrating the adage that what is...\n",
        "8                                             escapades\n",
        "9     demonstrating the adage that what is good for ...\n",
        "10                              demonstrating the adage\n",
        "11                                        demonstrating\n",
        "12                                            the adage\n",
        "13                                                  the\n",
        "14                                                adage\n",
        "...\n",
        "156045    Herrmann quietly suggesting the sadness and ob...\n",
        "156046                                             Herrmann\n",
        "156047    quietly suggesting the sadness and obsession b...\n",
        "156048    suggesting the sadness and obsession beneath H...\n",
        "156049                 suggesting the sadness and obsession\n",
        "156050                            the sadness and obsession\n",
        "156051                                sadness and obsession\n",
        "156052                                          sadness and\n",
        "156053          beneath Hearst 's forced avuncular chortles\n",
        "156054                  Hearst 's forced avuncular chortles\n",
        "156055                                            Hearst 's\n",
        "156056                            forced avuncular chortles\n",
        "156057                                   avuncular chortles\n",
        "156058                                            avuncular\n",
        "156059                                             chortles\n",
        "Name: Phrase, Length: 156060, dtype: object"
       ]
      }
     ],
     "prompt_number": 25
    },
    {
     "cell_type": "code",
     "collapsed": false,
     "input": [
      "X = tfidf_vec.fit_transform(train['Phrase'])\n",
      "y = train['Sentiment'].astype('int')\n",
      "X_test = tfidf_vec.transform(test['Phrase'])"
     ],
     "language": "python",
     "metadata": {},
     "outputs": [],
     "prompt_number": 113
    },
    {
     "cell_type": "code",
     "collapsed": false,
     "input": [
      "train[['Phrase','Sentiment']]"
     ],
     "language": "python",
     "metadata": {},
     "outputs": [
      {
       "html": [
        "<div style=\"max-height:1000px;max-width:1500px;overflow:auto;\">\n",
        "<table border=\"1\" class=\"dataframe\">\n",
        "  <thead>\n",
        "    <tr style=\"text-align: right;\">\n",
        "      <th></th>\n",
        "      <th>Phrase</th>\n",
        "      <th>Sentiment</th>\n",
        "    </tr>\n",
        "  </thead>\n",
        "  <tbody>\n",
        "    <tr>\n",
        "      <th>0     </th>\n",
        "      <td> A series of escapades demonstrating the adage ...</td>\n",
        "      <td> 1</td>\n",
        "    </tr>\n",
        "    <tr>\n",
        "      <th>1     </th>\n",
        "      <td> A series of escapades demonstrating the adage ...</td>\n",
        "      <td> 2</td>\n",
        "    </tr>\n",
        "    <tr>\n",
        "      <th>2     </th>\n",
        "      <td>                                          A series</td>\n",
        "      <td> 2</td>\n",
        "    </tr>\n",
        "    <tr>\n",
        "      <th>3     </th>\n",
        "      <td>                                                 A</td>\n",
        "      <td> 2</td>\n",
        "    </tr>\n",
        "    <tr>\n",
        "      <th>4     </th>\n",
        "      <td>                                            series</td>\n",
        "      <td> 2</td>\n",
        "    </tr>\n",
        "    <tr>\n",
        "      <th>5     </th>\n",
        "      <td> of escapades demonstrating the adage that what...</td>\n",
        "      <td> 2</td>\n",
        "    </tr>\n",
        "    <tr>\n",
        "      <th>6     </th>\n",
        "      <td>                                                of</td>\n",
        "      <td> 2</td>\n",
        "    </tr>\n",
        "    <tr>\n",
        "      <th>7     </th>\n",
        "      <td> escapades demonstrating the adage that what is...</td>\n",
        "      <td> 2</td>\n",
        "    </tr>\n",
        "    <tr>\n",
        "      <th>8     </th>\n",
        "      <td>                                         escapades</td>\n",
        "      <td> 2</td>\n",
        "    </tr>\n",
        "    <tr>\n",
        "      <th>9     </th>\n",
        "      <td> demonstrating the adage that what is good for ...</td>\n",
        "      <td> 2</td>\n",
        "    </tr>\n",
        "    <tr>\n",
        "      <th>10    </th>\n",
        "      <td>                           demonstrating the adage</td>\n",
        "      <td> 2</td>\n",
        "    </tr>\n",
        "    <tr>\n",
        "      <th>11    </th>\n",
        "      <td>                                     demonstrating</td>\n",
        "      <td> 2</td>\n",
        "    </tr>\n",
        "    <tr>\n",
        "      <th>12    </th>\n",
        "      <td>                                         the adage</td>\n",
        "      <td> 2</td>\n",
        "    </tr>\n",
        "    <tr>\n",
        "      <th>13    </th>\n",
        "      <td>                                               the</td>\n",
        "      <td> 2</td>\n",
        "    </tr>\n",
        "    <tr>\n",
        "      <th>14    </th>\n",
        "      <td>                                             adage</td>\n",
        "      <td> 2</td>\n",
        "    </tr>\n",
        "    <tr>\n",
        "      <th>15    </th>\n",
        "      <td>                   that what is good for the goose</td>\n",
        "      <td> 2</td>\n",
        "    </tr>\n",
        "    <tr>\n",
        "      <th>16    </th>\n",
        "      <td>                                              that</td>\n",
        "      <td> 2</td>\n",
        "    </tr>\n",
        "    <tr>\n",
        "      <th>17    </th>\n",
        "      <td>                        what is good for the goose</td>\n",
        "      <td> 2</td>\n",
        "    </tr>\n",
        "    <tr>\n",
        "      <th>18    </th>\n",
        "      <td>                                              what</td>\n",
        "      <td> 2</td>\n",
        "    </tr>\n",
        "    <tr>\n",
        "      <th>19    </th>\n",
        "      <td>                             is good for the goose</td>\n",
        "      <td> 2</td>\n",
        "    </tr>\n",
        "    <tr>\n",
        "      <th>20    </th>\n",
        "      <td>                                                is</td>\n",
        "      <td> 2</td>\n",
        "    </tr>\n",
        "    <tr>\n",
        "      <th>21    </th>\n",
        "      <td>                                good for the goose</td>\n",
        "      <td> 3</td>\n",
        "    </tr>\n",
        "    <tr>\n",
        "      <th>22    </th>\n",
        "      <td>                                              good</td>\n",
        "      <td> 3</td>\n",
        "    </tr>\n",
        "    <tr>\n",
        "      <th>23    </th>\n",
        "      <td>                                     for the goose</td>\n",
        "      <td> 2</td>\n",
        "    </tr>\n",
        "    <tr>\n",
        "      <th>24    </th>\n",
        "      <td>                                               for</td>\n",
        "      <td> 2</td>\n",
        "    </tr>\n",
        "    <tr>\n",
        "      <th>25    </th>\n",
        "      <td>                                         the goose</td>\n",
        "      <td> 2</td>\n",
        "    </tr>\n",
        "    <tr>\n",
        "      <th>26    </th>\n",
        "      <td>                                             goose</td>\n",
        "      <td> 2</td>\n",
        "    </tr>\n",
        "    <tr>\n",
        "      <th>27    </th>\n",
        "      <td> is also good for the gander , some of which oc...</td>\n",
        "      <td> 2</td>\n",
        "    </tr>\n",
        "    <tr>\n",
        "      <th>28    </th>\n",
        "      <td> is also good for the gander , some of which oc...</td>\n",
        "      <td> 2</td>\n",
        "    </tr>\n",
        "    <tr>\n",
        "      <th>29    </th>\n",
        "      <td>                                           is also</td>\n",
        "      <td> 2</td>\n",
        "    </tr>\n",
        "    <tr>\n",
        "      <th>...</th>\n",
        "      <td>...</td>\n",
        "      <td>...</td>\n",
        "    </tr>\n",
        "    <tr>\n",
        "      <th>156030</th>\n",
        "      <td>                       a joke in the United States</td>\n",
        "      <td> 2</td>\n",
        "    </tr>\n",
        "    <tr>\n",
        "      <th>156031</th>\n",
        "      <td> The movie 's downfall is to substitute plot fo...</td>\n",
        "      <td> 1</td>\n",
        "    </tr>\n",
        "    <tr>\n",
        "      <th>156032</th>\n",
        "      <td>                             The movie 's downfall</td>\n",
        "      <td> 1</td>\n",
        "    </tr>\n",
        "    <tr>\n",
        "      <th>156033</th>\n",
        "      <td>           is to substitute plot for personality .</td>\n",
        "      <td> 1</td>\n",
        "    </tr>\n",
        "    <tr>\n",
        "      <th>156034</th>\n",
        "      <td>             is to substitute plot for personality</td>\n",
        "      <td> 1</td>\n",
        "    </tr>\n",
        "    <tr>\n",
        "      <th>156035</th>\n",
        "      <td>                to substitute plot for personality</td>\n",
        "      <td> 2</td>\n",
        "    </tr>\n",
        "    <tr>\n",
        "      <th>156036</th>\n",
        "      <td>                   substitute plot for personality</td>\n",
        "      <td> 1</td>\n",
        "    </tr>\n",
        "    <tr>\n",
        "      <th>156037</th>\n",
        "      <td>                                   substitute plot</td>\n",
        "      <td> 2</td>\n",
        "    </tr>\n",
        "    <tr>\n",
        "      <th>156038</th>\n",
        "      <td>                                   for personality</td>\n",
        "      <td> 2</td>\n",
        "    </tr>\n",
        "    <tr>\n",
        "      <th>156039</th>\n",
        "      <td> The film is darkly atmospheric , with Herrmann...</td>\n",
        "      <td> 2</td>\n",
        "    </tr>\n",
        "    <tr>\n",
        "      <th>156040</th>\n",
        "      <td> is darkly atmospheric , with Herrmann quietly ...</td>\n",
        "      <td> 2</td>\n",
        "    </tr>\n",
        "    <tr>\n",
        "      <th>156041</th>\n",
        "      <td> is darkly atmospheric , with Herrmann quietly ...</td>\n",
        "      <td> 2</td>\n",
        "    </tr>\n",
        "    <tr>\n",
        "      <th>156042</th>\n",
        "      <td>                           is darkly atmospheric ,</td>\n",
        "      <td> 2</td>\n",
        "    </tr>\n",
        "    <tr>\n",
        "      <th>156043</th>\n",
        "      <td>                             is darkly atmospheric</td>\n",
        "      <td> 3</td>\n",
        "    </tr>\n",
        "    <tr>\n",
        "      <th>156044</th>\n",
        "      <td> with Herrmann quietly suggesting the sadness a...</td>\n",
        "      <td> 2</td>\n",
        "    </tr>\n",
        "    <tr>\n",
        "      <th>156045</th>\n",
        "      <td> Herrmann quietly suggesting the sadness and ob...</td>\n",
        "      <td> 2</td>\n",
        "    </tr>\n",
        "    <tr>\n",
        "      <th>156046</th>\n",
        "      <td>                                          Herrmann</td>\n",
        "      <td> 2</td>\n",
        "    </tr>\n",
        "    <tr>\n",
        "      <th>156047</th>\n",
        "      <td> quietly suggesting the sadness and obsession b...</td>\n",
        "      <td> 1</td>\n",
        "    </tr>\n",
        "    <tr>\n",
        "      <th>156048</th>\n",
        "      <td> suggesting the sadness and obsession beneath H...</td>\n",
        "      <td> 2</td>\n",
        "    </tr>\n",
        "    <tr>\n",
        "      <th>156049</th>\n",
        "      <td>              suggesting the sadness and obsession</td>\n",
        "      <td> 2</td>\n",
        "    </tr>\n",
        "    <tr>\n",
        "      <th>156050</th>\n",
        "      <td>                         the sadness and obsession</td>\n",
        "      <td> 2</td>\n",
        "    </tr>\n",
        "    <tr>\n",
        "      <th>156051</th>\n",
        "      <td>                             sadness and obsession</td>\n",
        "      <td> 1</td>\n",
        "    </tr>\n",
        "    <tr>\n",
        "      <th>156052</th>\n",
        "      <td>                                       sadness and</td>\n",
        "      <td> 1</td>\n",
        "    </tr>\n",
        "    <tr>\n",
        "      <th>156053</th>\n",
        "      <td>       beneath Hearst 's forced avuncular chortles</td>\n",
        "      <td> 2</td>\n",
        "    </tr>\n",
        "    <tr>\n",
        "      <th>156054</th>\n",
        "      <td>               Hearst 's forced avuncular chortles</td>\n",
        "      <td> 2</td>\n",
        "    </tr>\n",
        "    <tr>\n",
        "      <th>156055</th>\n",
        "      <td>                                         Hearst 's</td>\n",
        "      <td> 2</td>\n",
        "    </tr>\n",
        "    <tr>\n",
        "      <th>156056</th>\n",
        "      <td>                         forced avuncular chortles</td>\n",
        "      <td> 1</td>\n",
        "    </tr>\n",
        "    <tr>\n",
        "      <th>156057</th>\n",
        "      <td>                                avuncular chortles</td>\n",
        "      <td> 3</td>\n",
        "    </tr>\n",
        "    <tr>\n",
        "      <th>156058</th>\n",
        "      <td>                                         avuncular</td>\n",
        "      <td> 2</td>\n",
        "    </tr>\n",
        "    <tr>\n",
        "      <th>156059</th>\n",
        "      <td>                                          chortles</td>\n",
        "      <td> 2</td>\n",
        "    </tr>\n",
        "  </tbody>\n",
        "</table>\n",
        "<p>156060 rows \u00d7 2 columns</p>\n",
        "</div>"
       ],
       "metadata": {},
       "output_type": "pyout",
       "prompt_number": 58,
       "text": [
        "                                                   Phrase  Sentiment\n",
        "0       A series of escapades demonstrating the adage ...          1\n",
        "1       A series of escapades demonstrating the adage ...          2\n",
        "2                                                A series          2\n",
        "3                                                       A          2\n",
        "4                                                  series          2\n",
        "5       of escapades demonstrating the adage that what...          2\n",
        "6                                                      of          2\n",
        "7       escapades demonstrating the adage that what is...          2\n",
        "8                                               escapades          2\n",
        "9       demonstrating the adage that what is good for ...          2\n",
        "10                                demonstrating the adage          2\n",
        "11                                          demonstrating          2\n",
        "12                                              the adage          2\n",
        "13                                                    the          2\n",
        "14                                                  adage          2\n",
        "15                        that what is good for the goose          2\n",
        "16                                                   that          2\n",
        "17                             what is good for the goose          2\n",
        "18                                                   what          2\n",
        "19                                  is good for the goose          2\n",
        "20                                                     is          2\n",
        "21                                     good for the goose          3\n",
        "22                                                   good          3\n",
        "23                                          for the goose          2\n",
        "24                                                    for          2\n",
        "25                                              the goose          2\n",
        "26                                                  goose          2\n",
        "27      is also good for the gander , some of which oc...          2\n",
        "28      is also good for the gander , some of which oc...          2\n",
        "29                                                is also          2\n",
        "...                                                   ...        ...\n",
        "156030                        a joke in the United States          2\n",
        "156031  The movie 's downfall is to substitute plot fo...          1\n",
        "156032                              The movie 's downfall          1\n",
        "156033            is to substitute plot for personality .          1\n",
        "156034              is to substitute plot for personality          1\n",
        "156035                 to substitute plot for personality          2\n",
        "156036                    substitute plot for personality          1\n",
        "156037                                    substitute plot          2\n",
        "156038                                    for personality          2\n",
        "156039  The film is darkly atmospheric , with Herrmann...          2\n",
        "156040  is darkly atmospheric , with Herrmann quietly ...          2\n",
        "156041  is darkly atmospheric , with Herrmann quietly ...          2\n",
        "156042                            is darkly atmospheric ,          2\n",
        "156043                              is darkly atmospheric          3\n",
        "156044  with Herrmann quietly suggesting the sadness a...          2\n",
        "156045  Herrmann quietly suggesting the sadness and ob...          2\n",
        "156046                                           Herrmann          2\n",
        "156047  quietly suggesting the sadness and obsession b...          1\n",
        "156048  suggesting the sadness and obsession beneath H...          2\n",
        "156049               suggesting the sadness and obsession          2\n",
        "156050                          the sadness and obsession          2\n",
        "156051                              sadness and obsession          1\n",
        "156052                                        sadness and          1\n",
        "156053        beneath Hearst 's forced avuncular chortles          2\n",
        "156054                Hearst 's forced avuncular chortles          2\n",
        "156055                                          Hearst 's          2\n",
        "156056                          forced avuncular chortles          1\n",
        "156057                                 avuncular chortles          3\n",
        "156058                                          avuncular          2\n",
        "156059                                           chortles          2\n",
        "\n",
        "[156060 rows x 2 columns]"
       ]
      }
     ],
     "prompt_number": 58
    },
    {
     "cell_type": "code",
     "collapsed": false,
     "input": [
      "print type(X)\n",
      "print X.shape"
     ],
     "language": "python",
     "metadata": {},
     "outputs": [
      {
       "output_type": "stream",
       "stream": "stdout",
       "text": [
        "<class 'scipy.sparse.csr.csr_matrix'>\n",
        "(156060, 15240)\n"
       ]
      }
     ],
     "prompt_number": 61
    },
    {
     "cell_type": "code",
     "collapsed": false,
     "input": [
      "from sklearn.decomposition import FastICA\n",
      "ica = FastICA(n_components=150)\n",
      "X_ica = ica.fit_transform(X.toarray())\n"
     ],
     "language": "python",
     "metadata": {},
     "outputs": [
      {
       "ename": "ValueError",
       "evalue": "array is too big.",
       "output_type": "pyerr",
       "traceback": [
        "\u001b[1;31m---------------------------------------------------------------------------\u001b[0m\n\u001b[1;31mValueError\u001b[0m                                Traceback (most recent call last)",
        "\u001b[1;32m<ipython-input-63-43e0a9868aef>\u001b[0m in \u001b[0;36m<module>\u001b[1;34m()\u001b[0m\n\u001b[0;32m      1\u001b[0m \u001b[1;32mfrom\u001b[0m \u001b[0msklearn\u001b[0m\u001b[1;33m.\u001b[0m\u001b[0mdecomposition\u001b[0m \u001b[1;32mimport\u001b[0m \u001b[0mFastICA\u001b[0m\u001b[1;33m\u001b[0m\u001b[0m\n\u001b[0;32m      2\u001b[0m \u001b[0mica\u001b[0m \u001b[1;33m=\u001b[0m \u001b[0mFastICA\u001b[0m\u001b[1;33m(\u001b[0m\u001b[0mn_components\u001b[0m\u001b[1;33m=\u001b[0m\u001b[1;36m150\u001b[0m\u001b[1;33m)\u001b[0m\u001b[1;33m\u001b[0m\u001b[0m\n\u001b[1;32m----> 3\u001b[1;33m \u001b[0mX_ica\u001b[0m \u001b[1;33m=\u001b[0m \u001b[0mica\u001b[0m\u001b[1;33m.\u001b[0m\u001b[0mfit_transform\u001b[0m\u001b[1;33m(\u001b[0m\u001b[0mX\u001b[0m\u001b[1;33m.\u001b[0m\u001b[0mtoarray\u001b[0m\u001b[1;33m(\u001b[0m\u001b[1;33m)\u001b[0m\u001b[1;33m)\u001b[0m\u001b[1;33m\u001b[0m\u001b[0m\n\u001b[0m",
        "\u001b[1;32mD:\\Program Files\\Python27\\lib\\site-packages\\scipy\\sparse\\compressed.pyc\u001b[0m in \u001b[0;36mtoarray\u001b[1;34m(self, order, out)\u001b[0m\n\u001b[0;32m    899\u001b[0m     \u001b[1;32mdef\u001b[0m \u001b[0mtoarray\u001b[0m\u001b[1;33m(\u001b[0m\u001b[0mself\u001b[0m\u001b[1;33m,\u001b[0m \u001b[0morder\u001b[0m\u001b[1;33m=\u001b[0m\u001b[0mNone\u001b[0m\u001b[1;33m,\u001b[0m \u001b[0mout\u001b[0m\u001b[1;33m=\u001b[0m\u001b[0mNone\u001b[0m\u001b[1;33m)\u001b[0m\u001b[1;33m:\u001b[0m\u001b[1;33m\u001b[0m\u001b[0m\n\u001b[0;32m    900\u001b[0m         \u001b[1;34m\"\"\"See the docstring for `spmatrix.toarray`.\"\"\"\u001b[0m\u001b[1;33m\u001b[0m\u001b[0m\n\u001b[1;32m--> 901\u001b[1;33m         \u001b[1;32mreturn\u001b[0m \u001b[0mself\u001b[0m\u001b[1;33m.\u001b[0m\u001b[0mtocoo\u001b[0m\u001b[1;33m(\u001b[0m\u001b[0mcopy\u001b[0m\u001b[1;33m=\u001b[0m\u001b[0mFalse\u001b[0m\u001b[1;33m)\u001b[0m\u001b[1;33m.\u001b[0m\u001b[0mtoarray\u001b[0m\u001b[1;33m(\u001b[0m\u001b[0morder\u001b[0m\u001b[1;33m=\u001b[0m\u001b[0morder\u001b[0m\u001b[1;33m,\u001b[0m \u001b[0mout\u001b[0m\u001b[1;33m=\u001b[0m\u001b[0mout\u001b[0m\u001b[1;33m)\u001b[0m\u001b[1;33m\u001b[0m\u001b[0m\n\u001b[0m\u001b[0;32m    902\u001b[0m \u001b[1;33m\u001b[0m\u001b[0m\n\u001b[0;32m    903\u001b[0m     \u001b[1;31m##############################################################\u001b[0m\u001b[1;33m\u001b[0m\u001b[1;33m\u001b[0m\u001b[0m\n",
        "\u001b[1;32mD:\\Program Files\\Python27\\lib\\site-packages\\scipy\\sparse\\coo.pyc\u001b[0m in \u001b[0;36mtoarray\u001b[1;34m(self, order, out)\u001b[0m\n\u001b[0;32m    267\u001b[0m     \u001b[1;32mdef\u001b[0m \u001b[0mtoarray\u001b[0m\u001b[1;33m(\u001b[0m\u001b[0mself\u001b[0m\u001b[1;33m,\u001b[0m \u001b[0morder\u001b[0m\u001b[1;33m=\u001b[0m\u001b[0mNone\u001b[0m\u001b[1;33m,\u001b[0m \u001b[0mout\u001b[0m\u001b[1;33m=\u001b[0m\u001b[0mNone\u001b[0m\u001b[1;33m)\u001b[0m\u001b[1;33m:\u001b[0m\u001b[1;33m\u001b[0m\u001b[0m\n\u001b[0;32m    268\u001b[0m         \u001b[1;34m\"\"\"See the docstring for `spmatrix.toarray`.\"\"\"\u001b[0m\u001b[1;33m\u001b[0m\u001b[0m\n\u001b[1;32m--> 269\u001b[1;33m         \u001b[0mB\u001b[0m \u001b[1;33m=\u001b[0m \u001b[0mself\u001b[0m\u001b[1;33m.\u001b[0m\u001b[0m_process_toarray_args\u001b[0m\u001b[1;33m(\u001b[0m\u001b[0morder\u001b[0m\u001b[1;33m,\u001b[0m \u001b[0mout\u001b[0m\u001b[1;33m)\u001b[0m\u001b[1;33m\u001b[0m\u001b[0m\n\u001b[0m\u001b[0;32m    270\u001b[0m         \u001b[0mfortran\u001b[0m \u001b[1;33m=\u001b[0m \u001b[0mint\u001b[0m\u001b[1;33m(\u001b[0m\u001b[0mB\u001b[0m\u001b[1;33m.\u001b[0m\u001b[0mflags\u001b[0m\u001b[1;33m.\u001b[0m\u001b[0mf_contiguous\u001b[0m\u001b[1;33m)\u001b[0m\u001b[1;33m\u001b[0m\u001b[0m\n\u001b[0;32m    271\u001b[0m         \u001b[1;32mif\u001b[0m \u001b[1;32mnot\u001b[0m \u001b[0mfortran\u001b[0m \u001b[1;32mand\u001b[0m \u001b[1;32mnot\u001b[0m \u001b[0mB\u001b[0m\u001b[1;33m.\u001b[0m\u001b[0mflags\u001b[0m\u001b[1;33m.\u001b[0m\u001b[0mc_contiguous\u001b[0m\u001b[1;33m:\u001b[0m\u001b[1;33m\u001b[0m\u001b[0m\n",
        "\u001b[1;32mD:\\Program Files\\Python27\\lib\\site-packages\\scipy\\sparse\\base.pyc\u001b[0m in \u001b[0;36m_process_toarray_args\u001b[1;34m(self, order, out)\u001b[0m\n\u001b[0;32m    787\u001b[0m             \u001b[1;32mreturn\u001b[0m \u001b[0mout\u001b[0m\u001b[1;33m\u001b[0m\u001b[0m\n\u001b[0;32m    788\u001b[0m         \u001b[1;32melse\u001b[0m\u001b[1;33m:\u001b[0m\u001b[1;33m\u001b[0m\u001b[0m\n\u001b[1;32m--> 789\u001b[1;33m             \u001b[1;32mreturn\u001b[0m \u001b[0mnp\u001b[0m\u001b[1;33m.\u001b[0m\u001b[0mzeros\u001b[0m\u001b[1;33m(\u001b[0m\u001b[0mself\u001b[0m\u001b[1;33m.\u001b[0m\u001b[0mshape\u001b[0m\u001b[1;33m,\u001b[0m \u001b[0mdtype\u001b[0m\u001b[1;33m=\u001b[0m\u001b[0mself\u001b[0m\u001b[1;33m.\u001b[0m\u001b[0mdtype\u001b[0m\u001b[1;33m,\u001b[0m \u001b[0morder\u001b[0m\u001b[1;33m=\u001b[0m\u001b[0morder\u001b[0m\u001b[1;33m)\u001b[0m\u001b[1;33m\u001b[0m\u001b[0m\n\u001b[0m\u001b[0;32m    790\u001b[0m \u001b[1;33m\u001b[0m\u001b[0m\n\u001b[0;32m    791\u001b[0m     \u001b[1;32mdef\u001b[0m \u001b[0m__numpy_ufunc__\u001b[0m\u001b[1;33m(\u001b[0m\u001b[0mself\u001b[0m\u001b[1;33m,\u001b[0m \u001b[0mfunc\u001b[0m\u001b[1;33m,\u001b[0m \u001b[0mmethod\u001b[0m\u001b[1;33m,\u001b[0m \u001b[0mpos\u001b[0m\u001b[1;33m,\u001b[0m \u001b[0minputs\u001b[0m\u001b[1;33m,\u001b[0m \u001b[1;33m**\u001b[0m\u001b[0mkwargs\u001b[0m\u001b[1;33m)\u001b[0m\u001b[1;33m:\u001b[0m\u001b[1;33m\u001b[0m\u001b[0m\n",
        "\u001b[1;31mValueError\u001b[0m: array is too big."
       ]
      }
     ],
     "prompt_number": 63
    },
    {
     "cell_type": "code",
     "collapsed": false,
     "input": [
      "from sklearn.linear_model import SGDClassifier\n",
      "\n",
      "clf = SGDClassifier(loss='log')\n",
      "\n",
      "shuffleRange = range(X.shape[0])\n",
      "n_iter = 5\n",
      "n_batch = 1000\n",
      "classes = np.unique(y)\n",
      "for n in range(5):\n",
      "    print n\n",
      "    np.random.shuffle(shuffleRange)\n",
      "    for i in range(0,len(shuffleRange), n_batch):\n",
      "        print i,\n",
      "        X_batch = X[shuffleRange[i:i+n_batch],:].toarray()\n",
      "        y_batch = y[shuffleRange[i:i+n_batch]]\n",
      "        clf.partial_fit(X_batch, y_batch, classes=classes)\n",
      "\n"
     ],
     "language": "python",
     "metadata": {},
     "outputs": [
      {
       "output_type": "stream",
       "stream": "stdout",
       "text": [
        " 0\n",
        "0 "
       ]
      },
      {
       "output_type": "stream",
       "stream": "stdout",
       "text": [
        "1000 "
       ]
      },
      {
       "output_type": "stream",
       "stream": "stdout",
       "text": [
        "2000 "
       ]
      },
      {
       "output_type": "stream",
       "stream": "stdout",
       "text": [
        "3000 "
       ]
      },
      {
       "output_type": "stream",
       "stream": "stdout",
       "text": [
        "4000 "
       ]
      },
      {
       "output_type": "stream",
       "stream": "stdout",
       "text": [
        "5000 "
       ]
      },
      {
       "output_type": "stream",
       "stream": "stdout",
       "text": [
        "6000 "
       ]
      },
      {
       "output_type": "stream",
       "stream": "stdout",
       "text": [
        "7000 "
       ]
      },
      {
       "output_type": "stream",
       "stream": "stdout",
       "text": [
        "8000 "
       ]
      },
      {
       "output_type": "stream",
       "stream": "stdout",
       "text": [
        "9000 "
       ]
      },
      {
       "output_type": "stream",
       "stream": "stdout",
       "text": [
        "10000 "
       ]
      },
      {
       "output_type": "stream",
       "stream": "stdout",
       "text": [
        "11000 "
       ]
      },
      {
       "output_type": "stream",
       "stream": "stdout",
       "text": [
        "12000 "
       ]
      },
      {
       "output_type": "stream",
       "stream": "stdout",
       "text": [
        "13000 "
       ]
      },
      {
       "output_type": "stream",
       "stream": "stdout",
       "text": [
        "14000 "
       ]
      },
      {
       "output_type": "stream",
       "stream": "stdout",
       "text": [
        "15000 "
       ]
      },
      {
       "output_type": "stream",
       "stream": "stdout",
       "text": [
        "16000 "
       ]
      },
      {
       "output_type": "stream",
       "stream": "stdout",
       "text": [
        "17000 "
       ]
      },
      {
       "output_type": "stream",
       "stream": "stdout",
       "text": [
        "18000 "
       ]
      },
      {
       "output_type": "stream",
       "stream": "stdout",
       "text": [
        "19000 "
       ]
      },
      {
       "output_type": "stream",
       "stream": "stdout",
       "text": [
        "20000 "
       ]
      },
      {
       "output_type": "stream",
       "stream": "stdout",
       "text": [
        "21000 "
       ]
      },
      {
       "output_type": "stream",
       "stream": "stdout",
       "text": [
        "22000 "
       ]
      },
      {
       "output_type": "stream",
       "stream": "stdout",
       "text": [
        "23000 "
       ]
      },
      {
       "output_type": "stream",
       "stream": "stdout",
       "text": [
        "24000 "
       ]
      },
      {
       "output_type": "stream",
       "stream": "stdout",
       "text": [
        "25000 "
       ]
      },
      {
       "output_type": "stream",
       "stream": "stdout",
       "text": [
        "26000 "
       ]
      },
      {
       "output_type": "stream",
       "stream": "stdout",
       "text": [
        "27000 "
       ]
      },
      {
       "output_type": "stream",
       "stream": "stdout",
       "text": [
        "28000 "
       ]
      },
      {
       "output_type": "stream",
       "stream": "stdout",
       "text": [
        "29000 "
       ]
      },
      {
       "output_type": "stream",
       "stream": "stdout",
       "text": [
        "30000 "
       ]
      },
      {
       "output_type": "stream",
       "stream": "stdout",
       "text": [
        "31000 "
       ]
      },
      {
       "output_type": "stream",
       "stream": "stdout",
       "text": [
        "32000 "
       ]
      },
      {
       "output_type": "stream",
       "stream": "stdout",
       "text": [
        "33000 "
       ]
      },
      {
       "output_type": "stream",
       "stream": "stdout",
       "text": [
        "34000 "
       ]
      },
      {
       "output_type": "stream",
       "stream": "stdout",
       "text": [
        "35000 "
       ]
      },
      {
       "output_type": "stream",
       "stream": "stdout",
       "text": [
        "36000 "
       ]
      },
      {
       "output_type": "stream",
       "stream": "stdout",
       "text": [
        "37000 "
       ]
      },
      {
       "output_type": "stream",
       "stream": "stdout",
       "text": [
        "38000 "
       ]
      },
      {
       "output_type": "stream",
       "stream": "stdout",
       "text": [
        "39000 "
       ]
      },
      {
       "output_type": "stream",
       "stream": "stdout",
       "text": [
        "40000 "
       ]
      },
      {
       "output_type": "stream",
       "stream": "stdout",
       "text": [
        "41000 "
       ]
      },
      {
       "output_type": "stream",
       "stream": "stdout",
       "text": [
        "42000 "
       ]
      },
      {
       "output_type": "stream",
       "stream": "stdout",
       "text": [
        "43000 "
       ]
      },
      {
       "output_type": "stream",
       "stream": "stdout",
       "text": [
        "44000 "
       ]
      },
      {
       "output_type": "stream",
       "stream": "stdout",
       "text": [
        "45000 "
       ]
      },
      {
       "output_type": "stream",
       "stream": "stdout",
       "text": [
        "46000 "
       ]
      },
      {
       "output_type": "stream",
       "stream": "stdout",
       "text": [
        "47000 "
       ]
      },
      {
       "output_type": "stream",
       "stream": "stdout",
       "text": [
        "48000 "
       ]
      },
      {
       "output_type": "stream",
       "stream": "stdout",
       "text": [
        "49000 "
       ]
      },
      {
       "output_type": "stream",
       "stream": "stdout",
       "text": [
        "50000 "
       ]
      },
      {
       "output_type": "stream",
       "stream": "stdout",
       "text": [
        "51000 "
       ]
      },
      {
       "output_type": "stream",
       "stream": "stdout",
       "text": [
        "52000 "
       ]
      },
      {
       "output_type": "stream",
       "stream": "stdout",
       "text": [
        "53000 "
       ]
      },
      {
       "output_type": "stream",
       "stream": "stdout",
       "text": [
        "54000 "
       ]
      },
      {
       "output_type": "stream",
       "stream": "stdout",
       "text": [
        "55000 "
       ]
      },
      {
       "output_type": "stream",
       "stream": "stdout",
       "text": [
        "56000 "
       ]
      },
      {
       "output_type": "stream",
       "stream": "stdout",
       "text": [
        "57000 "
       ]
      },
      {
       "output_type": "stream",
       "stream": "stdout",
       "text": [
        "58000 "
       ]
      },
      {
       "output_type": "stream",
       "stream": "stdout",
       "text": [
        "59000 "
       ]
      },
      {
       "output_type": "stream",
       "stream": "stdout",
       "text": [
        "60000 "
       ]
      },
      {
       "output_type": "stream",
       "stream": "stdout",
       "text": [
        "61000 "
       ]
      },
      {
       "output_type": "stream",
       "stream": "stdout",
       "text": [
        "62000 "
       ]
      },
      {
       "output_type": "stream",
       "stream": "stdout",
       "text": [
        "63000 "
       ]
      },
      {
       "output_type": "stream",
       "stream": "stdout",
       "text": [
        "64000 "
       ]
      },
      {
       "output_type": "stream",
       "stream": "stdout",
       "text": [
        "65000 "
       ]
      },
      {
       "output_type": "stream",
       "stream": "stdout",
       "text": [
        "66000 "
       ]
      },
      {
       "output_type": "stream",
       "stream": "stdout",
       "text": [
        "67000 "
       ]
      },
      {
       "output_type": "stream",
       "stream": "stdout",
       "text": [
        "68000 "
       ]
      },
      {
       "output_type": "stream",
       "stream": "stdout",
       "text": [
        "69000 "
       ]
      },
      {
       "output_type": "stream",
       "stream": "stdout",
       "text": [
        "70000 "
       ]
      },
      {
       "output_type": "stream",
       "stream": "stdout",
       "text": [
        "71000 "
       ]
      },
      {
       "output_type": "stream",
       "stream": "stdout",
       "text": [
        "72000 "
       ]
      },
      {
       "output_type": "stream",
       "stream": "stdout",
       "text": [
        "73000 "
       ]
      },
      {
       "output_type": "stream",
       "stream": "stdout",
       "text": [
        "74000 "
       ]
      },
      {
       "output_type": "stream",
       "stream": "stdout",
       "text": [
        "75000 "
       ]
      },
      {
       "output_type": "stream",
       "stream": "stdout",
       "text": [
        "76000 "
       ]
      },
      {
       "output_type": "stream",
       "stream": "stdout",
       "text": [
        "77000 "
       ]
      },
      {
       "output_type": "stream",
       "stream": "stdout",
       "text": [
        "78000 "
       ]
      },
      {
       "output_type": "stream",
       "stream": "stdout",
       "text": [
        "79000 "
       ]
      },
      {
       "output_type": "stream",
       "stream": "stdout",
       "text": [
        "80000 "
       ]
      },
      {
       "output_type": "stream",
       "stream": "stdout",
       "text": [
        "81000 "
       ]
      },
      {
       "output_type": "stream",
       "stream": "stdout",
       "text": [
        "82000 "
       ]
      },
      {
       "output_type": "stream",
       "stream": "stdout",
       "text": [
        "83000 "
       ]
      },
      {
       "output_type": "stream",
       "stream": "stdout",
       "text": [
        "84000 "
       ]
      },
      {
       "output_type": "stream",
       "stream": "stdout",
       "text": [
        "85000 "
       ]
      },
      {
       "output_type": "stream",
       "stream": "stdout",
       "text": [
        "86000 "
       ]
      },
      {
       "output_type": "stream",
       "stream": "stdout",
       "text": [
        "87000 "
       ]
      },
      {
       "output_type": "stream",
       "stream": "stdout",
       "text": [
        "88000 "
       ]
      },
      {
       "output_type": "stream",
       "stream": "stdout",
       "text": [
        "89000 "
       ]
      },
      {
       "output_type": "stream",
       "stream": "stdout",
       "text": [
        "90000 "
       ]
      },
      {
       "output_type": "stream",
       "stream": "stdout",
       "text": [
        "91000 "
       ]
      },
      {
       "output_type": "stream",
       "stream": "stdout",
       "text": [
        "92000 "
       ]
      },
      {
       "output_type": "stream",
       "stream": "stdout",
       "text": [
        "93000 "
       ]
      },
      {
       "output_type": "stream",
       "stream": "stdout",
       "text": [
        "94000 "
       ]
      },
      {
       "output_type": "stream",
       "stream": "stdout",
       "text": [
        "95000 "
       ]
      },
      {
       "output_type": "stream",
       "stream": "stdout",
       "text": [
        "96000 "
       ]
      },
      {
       "output_type": "stream",
       "stream": "stdout",
       "text": [
        "97000 "
       ]
      },
      {
       "output_type": "stream",
       "stream": "stdout",
       "text": [
        "98000 "
       ]
      },
      {
       "output_type": "stream",
       "stream": "stdout",
       "text": [
        "99000 "
       ]
      },
      {
       "output_type": "stream",
       "stream": "stdout",
       "text": [
        "100000 "
       ]
      },
      {
       "output_type": "stream",
       "stream": "stdout",
       "text": [
        "101000 "
       ]
      },
      {
       "output_type": "stream",
       "stream": "stdout",
       "text": [
        "102000 "
       ]
      },
      {
       "output_type": "stream",
       "stream": "stdout",
       "text": [
        "103000 "
       ]
      },
      {
       "output_type": "stream",
       "stream": "stdout",
       "text": [
        "104000 "
       ]
      },
      {
       "output_type": "stream",
       "stream": "stdout",
       "text": [
        "105000 "
       ]
      },
      {
       "output_type": "stream",
       "stream": "stdout",
       "text": [
        "106000 "
       ]
      },
      {
       "output_type": "stream",
       "stream": "stdout",
       "text": [
        "107000 "
       ]
      },
      {
       "output_type": "stream",
       "stream": "stdout",
       "text": [
        "108000 "
       ]
      },
      {
       "output_type": "stream",
       "stream": "stdout",
       "text": [
        "109000 "
       ]
      },
      {
       "output_type": "stream",
       "stream": "stdout",
       "text": [
        "110000 "
       ]
      },
      {
       "output_type": "stream",
       "stream": "stdout",
       "text": [
        "111000 "
       ]
      },
      {
       "output_type": "stream",
       "stream": "stdout",
       "text": [
        "112000 "
       ]
      },
      {
       "output_type": "stream",
       "stream": "stdout",
       "text": [
        "113000 "
       ]
      },
      {
       "output_type": "stream",
       "stream": "stdout",
       "text": [
        "114000 "
       ]
      },
      {
       "output_type": "stream",
       "stream": "stdout",
       "text": [
        "115000 "
       ]
      },
      {
       "output_type": "stream",
       "stream": "stdout",
       "text": [
        "116000 "
       ]
      },
      {
       "output_type": "stream",
       "stream": "stdout",
       "text": [
        "117000 "
       ]
      },
      {
       "output_type": "stream",
       "stream": "stdout",
       "text": [
        "118000 "
       ]
      },
      {
       "output_type": "stream",
       "stream": "stdout",
       "text": [
        "119000 "
       ]
      },
      {
       "output_type": "stream",
       "stream": "stdout",
       "text": [
        "120000 "
       ]
      },
      {
       "output_type": "stream",
       "stream": "stdout",
       "text": [
        "121000 "
       ]
      },
      {
       "output_type": "stream",
       "stream": "stdout",
       "text": [
        "122000 "
       ]
      },
      {
       "output_type": "stream",
       "stream": "stdout",
       "text": [
        "123000 "
       ]
      },
      {
       "output_type": "stream",
       "stream": "stdout",
       "text": [
        "124000 "
       ]
      },
      {
       "output_type": "stream",
       "stream": "stdout",
       "text": [
        "125000 "
       ]
      },
      {
       "output_type": "stream",
       "stream": "stdout",
       "text": [
        "126000 "
       ]
      },
      {
       "output_type": "stream",
       "stream": "stdout",
       "text": [
        "127000 "
       ]
      },
      {
       "output_type": "stream",
       "stream": "stdout",
       "text": [
        "128000 "
       ]
      },
      {
       "output_type": "stream",
       "stream": "stdout",
       "text": [
        "129000 "
       ]
      },
      {
       "output_type": "stream",
       "stream": "stdout",
       "text": [
        "130000 "
       ]
      },
      {
       "output_type": "stream",
       "stream": "stdout",
       "text": [
        "131000 "
       ]
      },
      {
       "output_type": "stream",
       "stream": "stdout",
       "text": [
        "132000 "
       ]
      },
      {
       "output_type": "stream",
       "stream": "stdout",
       "text": [
        "133000 "
       ]
      },
      {
       "output_type": "stream",
       "stream": "stdout",
       "text": [
        "134000 "
       ]
      },
      {
       "output_type": "stream",
       "stream": "stdout",
       "text": [
        "135000 "
       ]
      },
      {
       "output_type": "stream",
       "stream": "stdout",
       "text": [
        "136000 "
       ]
      },
      {
       "output_type": "stream",
       "stream": "stdout",
       "text": [
        "137000 "
       ]
      },
      {
       "output_type": "stream",
       "stream": "stdout",
       "text": [
        "138000 "
       ]
      },
      {
       "output_type": "stream",
       "stream": "stdout",
       "text": [
        "139000 "
       ]
      },
      {
       "output_type": "stream",
       "stream": "stdout",
       "text": [
        "140000 "
       ]
      },
      {
       "output_type": "stream",
       "stream": "stdout",
       "text": [
        "141000 "
       ]
      },
      {
       "output_type": "stream",
       "stream": "stdout",
       "text": [
        "142000 "
       ]
      },
      {
       "output_type": "stream",
       "stream": "stdout",
       "text": [
        "143000 "
       ]
      },
      {
       "output_type": "stream",
       "stream": "stdout",
       "text": [
        "144000 "
       ]
      },
      {
       "output_type": "stream",
       "stream": "stdout",
       "text": [
        "145000 "
       ]
      },
      {
       "output_type": "stream",
       "stream": "stdout",
       "text": [
        "146000 "
       ]
      },
      {
       "output_type": "stream",
       "stream": "stdout",
       "text": [
        "147000 "
       ]
      },
      {
       "output_type": "stream",
       "stream": "stdout",
       "text": [
        "148000 "
       ]
      },
      {
       "output_type": "stream",
       "stream": "stdout",
       "text": [
        "149000 "
       ]
      },
      {
       "output_type": "stream",
       "stream": "stdout",
       "text": [
        "150000 "
       ]
      },
      {
       "output_type": "stream",
       "stream": "stdout",
       "text": [
        "151000 "
       ]
      },
      {
       "output_type": "stream",
       "stream": "stdout",
       "text": [
        "152000 "
       ]
      },
      {
       "output_type": "stream",
       "stream": "stdout",
       "text": [
        "153000 "
       ]
      },
      {
       "output_type": "stream",
       "stream": "stdout",
       "text": [
        "154000 "
       ]
      },
      {
       "output_type": "stream",
       "stream": "stdout",
       "text": [
        "155000 "
       ]
      },
      {
       "output_type": "stream",
       "stream": "stdout",
       "text": [
        "156000 "
       ]
      },
      {
       "output_type": "stream",
       "stream": "stdout",
       "text": [
        "1\n",
        "0 "
       ]
      },
      {
       "output_type": "stream",
       "stream": "stdout",
       "text": [
        "1000 "
       ]
      },
      {
       "output_type": "stream",
       "stream": "stdout",
       "text": [
        "2000 "
       ]
      },
      {
       "output_type": "stream",
       "stream": "stdout",
       "text": [
        "3000 "
       ]
      },
      {
       "output_type": "stream",
       "stream": "stdout",
       "text": [
        "4000 "
       ]
      },
      {
       "output_type": "stream",
       "stream": "stdout",
       "text": [
        "5000 "
       ]
      },
      {
       "output_type": "stream",
       "stream": "stdout",
       "text": [
        "6000 "
       ]
      },
      {
       "output_type": "stream",
       "stream": "stdout",
       "text": [
        "7000 "
       ]
      },
      {
       "output_type": "stream",
       "stream": "stdout",
       "text": [
        "8000 "
       ]
      },
      {
       "output_type": "stream",
       "stream": "stdout",
       "text": [
        "9000 "
       ]
      },
      {
       "output_type": "stream",
       "stream": "stdout",
       "text": [
        "10000 "
       ]
      },
      {
       "output_type": "stream",
       "stream": "stdout",
       "text": [
        "11000 "
       ]
      },
      {
       "output_type": "stream",
       "stream": "stdout",
       "text": [
        "12000 "
       ]
      },
      {
       "output_type": "stream",
       "stream": "stdout",
       "text": [
        "13000 "
       ]
      },
      {
       "output_type": "stream",
       "stream": "stdout",
       "text": [
        "14000 "
       ]
      },
      {
       "output_type": "stream",
       "stream": "stdout",
       "text": [
        "15000 "
       ]
      },
      {
       "output_type": "stream",
       "stream": "stdout",
       "text": [
        "16000 "
       ]
      },
      {
       "output_type": "stream",
       "stream": "stdout",
       "text": [
        "17000 "
       ]
      },
      {
       "output_type": "stream",
       "stream": "stdout",
       "text": [
        "18000 "
       ]
      },
      {
       "output_type": "stream",
       "stream": "stdout",
       "text": [
        "19000 "
       ]
      },
      {
       "output_type": "stream",
       "stream": "stdout",
       "text": [
        "20000 "
       ]
      },
      {
       "output_type": "stream",
       "stream": "stdout",
       "text": [
        "21000 "
       ]
      },
      {
       "output_type": "stream",
       "stream": "stdout",
       "text": [
        "22000 "
       ]
      },
      {
       "output_type": "stream",
       "stream": "stdout",
       "text": [
        "23000 "
       ]
      },
      {
       "output_type": "stream",
       "stream": "stdout",
       "text": [
        "24000 "
       ]
      },
      {
       "output_type": "stream",
       "stream": "stdout",
       "text": [
        "25000 "
       ]
      },
      {
       "output_type": "stream",
       "stream": "stdout",
       "text": [
        "26000 "
       ]
      },
      {
       "output_type": "stream",
       "stream": "stdout",
       "text": [
        "27000 "
       ]
      },
      {
       "output_type": "stream",
       "stream": "stdout",
       "text": [
        "28000 "
       ]
      },
      {
       "output_type": "stream",
       "stream": "stdout",
       "text": [
        "29000 "
       ]
      },
      {
       "output_type": "stream",
       "stream": "stdout",
       "text": [
        "30000 "
       ]
      },
      {
       "output_type": "stream",
       "stream": "stdout",
       "text": [
        "31000 "
       ]
      },
      {
       "output_type": "stream",
       "stream": "stdout",
       "text": [
        "32000 "
       ]
      },
      {
       "output_type": "stream",
       "stream": "stdout",
       "text": [
        "33000 "
       ]
      },
      {
       "output_type": "stream",
       "stream": "stdout",
       "text": [
        "34000 "
       ]
      },
      {
       "output_type": "stream",
       "stream": "stdout",
       "text": [
        "35000 "
       ]
      },
      {
       "output_type": "stream",
       "stream": "stdout",
       "text": [
        "36000 "
       ]
      },
      {
       "output_type": "stream",
       "stream": "stdout",
       "text": [
        "37000 "
       ]
      },
      {
       "output_type": "stream",
       "stream": "stdout",
       "text": [
        "38000 "
       ]
      },
      {
       "output_type": "stream",
       "stream": "stdout",
       "text": [
        "39000 "
       ]
      },
      {
       "output_type": "stream",
       "stream": "stdout",
       "text": [
        "40000 "
       ]
      },
      {
       "output_type": "stream",
       "stream": "stdout",
       "text": [
        "41000 "
       ]
      },
      {
       "output_type": "stream",
       "stream": "stdout",
       "text": [
        "42000 "
       ]
      },
      {
       "output_type": "stream",
       "stream": "stdout",
       "text": [
        "43000 "
       ]
      },
      {
       "output_type": "stream",
       "stream": "stdout",
       "text": [
        "44000 "
       ]
      },
      {
       "output_type": "stream",
       "stream": "stdout",
       "text": [
        "45000 "
       ]
      },
      {
       "output_type": "stream",
       "stream": "stdout",
       "text": [
        "46000 "
       ]
      },
      {
       "output_type": "stream",
       "stream": "stdout",
       "text": [
        "47000 "
       ]
      },
      {
       "output_type": "stream",
       "stream": "stdout",
       "text": [
        "48000 "
       ]
      },
      {
       "output_type": "stream",
       "stream": "stdout",
       "text": [
        "49000 "
       ]
      },
      {
       "output_type": "stream",
       "stream": "stdout",
       "text": [
        "50000 "
       ]
      },
      {
       "output_type": "stream",
       "stream": "stdout",
       "text": [
        "51000 "
       ]
      },
      {
       "output_type": "stream",
       "stream": "stdout",
       "text": [
        "52000 "
       ]
      },
      {
       "output_type": "stream",
       "stream": "stdout",
       "text": [
        "53000 "
       ]
      },
      {
       "output_type": "stream",
       "stream": "stdout",
       "text": [
        "54000 "
       ]
      },
      {
       "output_type": "stream",
       "stream": "stdout",
       "text": [
        "55000 "
       ]
      },
      {
       "output_type": "stream",
       "stream": "stdout",
       "text": [
        "56000 "
       ]
      },
      {
       "output_type": "stream",
       "stream": "stdout",
       "text": [
        "57000 "
       ]
      },
      {
       "output_type": "stream",
       "stream": "stdout",
       "text": [
        "58000 "
       ]
      },
      {
       "output_type": "stream",
       "stream": "stdout",
       "text": [
        "59000 "
       ]
      },
      {
       "output_type": "stream",
       "stream": "stdout",
       "text": [
        "60000 "
       ]
      },
      {
       "output_type": "stream",
       "stream": "stdout",
       "text": [
        "61000 "
       ]
      },
      {
       "output_type": "stream",
       "stream": "stdout",
       "text": [
        "62000 "
       ]
      },
      {
       "output_type": "stream",
       "stream": "stdout",
       "text": [
        "63000 "
       ]
      },
      {
       "output_type": "stream",
       "stream": "stdout",
       "text": [
        "64000 "
       ]
      },
      {
       "output_type": "stream",
       "stream": "stdout",
       "text": [
        "65000 "
       ]
      },
      {
       "output_type": "stream",
       "stream": "stdout",
       "text": [
        "66000 "
       ]
      },
      {
       "output_type": "stream",
       "stream": "stdout",
       "text": [
        "67000 "
       ]
      },
      {
       "output_type": "stream",
       "stream": "stdout",
       "text": [
        "68000 "
       ]
      },
      {
       "output_type": "stream",
       "stream": "stdout",
       "text": [
        "69000 "
       ]
      },
      {
       "output_type": "stream",
       "stream": "stdout",
       "text": [
        "70000 "
       ]
      },
      {
       "output_type": "stream",
       "stream": "stdout",
       "text": [
        "71000 "
       ]
      },
      {
       "output_type": "stream",
       "stream": "stdout",
       "text": [
        "72000 "
       ]
      },
      {
       "output_type": "stream",
       "stream": "stdout",
       "text": [
        "73000 "
       ]
      },
      {
       "output_type": "stream",
       "stream": "stdout",
       "text": [
        "74000 "
       ]
      },
      {
       "output_type": "stream",
       "stream": "stdout",
       "text": [
        "75000 "
       ]
      },
      {
       "output_type": "stream",
       "stream": "stdout",
       "text": [
        "76000 "
       ]
      },
      {
       "output_type": "stream",
       "stream": "stdout",
       "text": [
        "77000 "
       ]
      },
      {
       "output_type": "stream",
       "stream": "stdout",
       "text": [
        "78000 "
       ]
      },
      {
       "output_type": "stream",
       "stream": "stdout",
       "text": [
        "79000 "
       ]
      },
      {
       "output_type": "stream",
       "stream": "stdout",
       "text": [
        "80000 "
       ]
      },
      {
       "output_type": "stream",
       "stream": "stdout",
       "text": [
        "81000 "
       ]
      },
      {
       "output_type": "stream",
       "stream": "stdout",
       "text": [
        "82000 "
       ]
      },
      {
       "output_type": "stream",
       "stream": "stdout",
       "text": [
        "83000 "
       ]
      },
      {
       "output_type": "stream",
       "stream": "stdout",
       "text": [
        "84000 "
       ]
      },
      {
       "output_type": "stream",
       "stream": "stdout",
       "text": [
        "85000 "
       ]
      },
      {
       "output_type": "stream",
       "stream": "stdout",
       "text": [
        "86000 "
       ]
      },
      {
       "output_type": "stream",
       "stream": "stdout",
       "text": [
        "87000 "
       ]
      },
      {
       "output_type": "stream",
       "stream": "stdout",
       "text": [
        "88000 "
       ]
      },
      {
       "output_type": "stream",
       "stream": "stdout",
       "text": [
        "89000 "
       ]
      },
      {
       "output_type": "stream",
       "stream": "stdout",
       "text": [
        "90000 "
       ]
      },
      {
       "output_type": "stream",
       "stream": "stdout",
       "text": [
        "91000 "
       ]
      },
      {
       "output_type": "stream",
       "stream": "stdout",
       "text": [
        "92000 "
       ]
      },
      {
       "output_type": "stream",
       "stream": "stdout",
       "text": [
        "93000 "
       ]
      },
      {
       "output_type": "stream",
       "stream": "stdout",
       "text": [
        "94000 "
       ]
      },
      {
       "output_type": "stream",
       "stream": "stdout",
       "text": [
        "95000 "
       ]
      },
      {
       "output_type": "stream",
       "stream": "stdout",
       "text": [
        "96000 "
       ]
      },
      {
       "output_type": "stream",
       "stream": "stdout",
       "text": [
        "97000 "
       ]
      },
      {
       "output_type": "stream",
       "stream": "stdout",
       "text": [
        "98000 "
       ]
      },
      {
       "output_type": "stream",
       "stream": "stdout",
       "text": [
        "99000 "
       ]
      },
      {
       "output_type": "stream",
       "stream": "stdout",
       "text": [
        "100000 "
       ]
      },
      {
       "output_type": "stream",
       "stream": "stdout",
       "text": [
        "101000 "
       ]
      },
      {
       "output_type": "stream",
       "stream": "stdout",
       "text": [
        "102000 "
       ]
      },
      {
       "output_type": "stream",
       "stream": "stdout",
       "text": [
        "103000 "
       ]
      },
      {
       "output_type": "stream",
       "stream": "stdout",
       "text": [
        "104000 "
       ]
      },
      {
       "output_type": "stream",
       "stream": "stdout",
       "text": [
        "105000 "
       ]
      },
      {
       "output_type": "stream",
       "stream": "stdout",
       "text": [
        "106000 "
       ]
      },
      {
       "output_type": "stream",
       "stream": "stdout",
       "text": [
        "107000 "
       ]
      },
      {
       "output_type": "stream",
       "stream": "stdout",
       "text": [
        "108000 "
       ]
      },
      {
       "output_type": "stream",
       "stream": "stdout",
       "text": [
        "109000 "
       ]
      },
      {
       "output_type": "stream",
       "stream": "stdout",
       "text": [
        "110000 "
       ]
      },
      {
       "output_type": "stream",
       "stream": "stdout",
       "text": [
        "111000 "
       ]
      },
      {
       "output_type": "stream",
       "stream": "stdout",
       "text": [
        "112000 "
       ]
      },
      {
       "output_type": "stream",
       "stream": "stdout",
       "text": [
        "113000 "
       ]
      },
      {
       "output_type": "stream",
       "stream": "stdout",
       "text": [
        "114000 "
       ]
      },
      {
       "output_type": "stream",
       "stream": "stdout",
       "text": [
        "115000 "
       ]
      },
      {
       "output_type": "stream",
       "stream": "stdout",
       "text": [
        "116000 "
       ]
      },
      {
       "output_type": "stream",
       "stream": "stdout",
       "text": [
        "117000 "
       ]
      },
      {
       "output_type": "stream",
       "stream": "stdout",
       "text": [
        "118000 "
       ]
      },
      {
       "output_type": "stream",
       "stream": "stdout",
       "text": [
        "119000 "
       ]
      },
      {
       "output_type": "stream",
       "stream": "stdout",
       "text": [
        "120000 "
       ]
      },
      {
       "output_type": "stream",
       "stream": "stdout",
       "text": [
        "121000 "
       ]
      },
      {
       "output_type": "stream",
       "stream": "stdout",
       "text": [
        "122000 "
       ]
      },
      {
       "output_type": "stream",
       "stream": "stdout",
       "text": [
        "123000 "
       ]
      },
      {
       "output_type": "stream",
       "stream": "stdout",
       "text": [
        "124000 "
       ]
      },
      {
       "output_type": "stream",
       "stream": "stdout",
       "text": [
        "125000 "
       ]
      },
      {
       "output_type": "stream",
       "stream": "stdout",
       "text": [
        "126000 "
       ]
      },
      {
       "output_type": "stream",
       "stream": "stdout",
       "text": [
        "127000 "
       ]
      },
      {
       "output_type": "stream",
       "stream": "stdout",
       "text": [
        "128000 "
       ]
      },
      {
       "output_type": "stream",
       "stream": "stdout",
       "text": [
        "129000 "
       ]
      },
      {
       "output_type": "stream",
       "stream": "stdout",
       "text": [
        "130000 "
       ]
      },
      {
       "output_type": "stream",
       "stream": "stdout",
       "text": [
        "131000 "
       ]
      },
      {
       "output_type": "stream",
       "stream": "stdout",
       "text": [
        "132000 "
       ]
      },
      {
       "output_type": "stream",
       "stream": "stdout",
       "text": [
        "133000 "
       ]
      },
      {
       "output_type": "stream",
       "stream": "stdout",
       "text": [
        "134000 "
       ]
      },
      {
       "output_type": "stream",
       "stream": "stdout",
       "text": [
        "135000 "
       ]
      },
      {
       "output_type": "stream",
       "stream": "stdout",
       "text": [
        "136000 "
       ]
      },
      {
       "output_type": "stream",
       "stream": "stdout",
       "text": [
        "137000 "
       ]
      },
      {
       "output_type": "stream",
       "stream": "stdout",
       "text": [
        "138000 "
       ]
      },
      {
       "output_type": "stream",
       "stream": "stdout",
       "text": [
        "139000 "
       ]
      },
      {
       "output_type": "stream",
       "stream": "stdout",
       "text": [
        "140000 "
       ]
      },
      {
       "output_type": "stream",
       "stream": "stdout",
       "text": [
        "141000 "
       ]
      },
      {
       "output_type": "stream",
       "stream": "stdout",
       "text": [
        "142000 "
       ]
      },
      {
       "output_type": "stream",
       "stream": "stdout",
       "text": [
        "143000 "
       ]
      },
      {
       "output_type": "stream",
       "stream": "stdout",
       "text": [
        "144000 "
       ]
      },
      {
       "output_type": "stream",
       "stream": "stdout",
       "text": [
        "145000 "
       ]
      },
      {
       "output_type": "stream",
       "stream": "stdout",
       "text": [
        "146000 "
       ]
      },
      {
       "output_type": "stream",
       "stream": "stdout",
       "text": [
        "147000 "
       ]
      },
      {
       "output_type": "stream",
       "stream": "stdout",
       "text": [
        "148000 "
       ]
      },
      {
       "output_type": "stream",
       "stream": "stdout",
       "text": [
        "149000 "
       ]
      },
      {
       "output_type": "stream",
       "stream": "stdout",
       "text": [
        "150000 "
       ]
      },
      {
       "output_type": "stream",
       "stream": "stdout",
       "text": [
        "151000 "
       ]
      },
      {
       "output_type": "stream",
       "stream": "stdout",
       "text": [
        "152000 "
       ]
      },
      {
       "output_type": "stream",
       "stream": "stdout",
       "text": [
        "153000 "
       ]
      },
      {
       "output_type": "stream",
       "stream": "stdout",
       "text": [
        "154000 "
       ]
      },
      {
       "output_type": "stream",
       "stream": "stdout",
       "text": [
        "155000 "
       ]
      },
      {
       "output_type": "stream",
       "stream": "stdout",
       "text": [
        "156000 "
       ]
      },
      {
       "output_type": "stream",
       "stream": "stdout",
       "text": [
        "2\n",
        "0 "
       ]
      },
      {
       "output_type": "stream",
       "stream": "stdout",
       "text": [
        "1000 "
       ]
      },
      {
       "output_type": "stream",
       "stream": "stdout",
       "text": [
        "2000 "
       ]
      },
      {
       "output_type": "stream",
       "stream": "stdout",
       "text": [
        "3000 "
       ]
      },
      {
       "output_type": "stream",
       "stream": "stdout",
       "text": [
        "4000 "
       ]
      },
      {
       "output_type": "stream",
       "stream": "stdout",
       "text": [
        "5000 "
       ]
      },
      {
       "output_type": "stream",
       "stream": "stdout",
       "text": [
        "6000 "
       ]
      },
      {
       "output_type": "stream",
       "stream": "stdout",
       "text": [
        "7000 "
       ]
      },
      {
       "output_type": "stream",
       "stream": "stdout",
       "text": [
        "8000 "
       ]
      },
      {
       "output_type": "stream",
       "stream": "stdout",
       "text": [
        "9000 "
       ]
      },
      {
       "output_type": "stream",
       "stream": "stdout",
       "text": [
        "10000 "
       ]
      },
      {
       "output_type": "stream",
       "stream": "stdout",
       "text": [
        "11000 "
       ]
      },
      {
       "output_type": "stream",
       "stream": "stdout",
       "text": [
        "12000 "
       ]
      },
      {
       "output_type": "stream",
       "stream": "stdout",
       "text": [
        "13000 "
       ]
      },
      {
       "output_type": "stream",
       "stream": "stdout",
       "text": [
        "14000 "
       ]
      },
      {
       "output_type": "stream",
       "stream": "stdout",
       "text": [
        "15000 "
       ]
      },
      {
       "output_type": "stream",
       "stream": "stdout",
       "text": [
        "16000 "
       ]
      },
      {
       "output_type": "stream",
       "stream": "stdout",
       "text": [
        "17000 "
       ]
      },
      {
       "output_type": "stream",
       "stream": "stdout",
       "text": [
        "18000 "
       ]
      },
      {
       "output_type": "stream",
       "stream": "stdout",
       "text": [
        "19000 "
       ]
      },
      {
       "output_type": "stream",
       "stream": "stdout",
       "text": [
        "20000 "
       ]
      },
      {
       "output_type": "stream",
       "stream": "stdout",
       "text": [
        "21000 "
       ]
      },
      {
       "output_type": "stream",
       "stream": "stdout",
       "text": [
        "22000 "
       ]
      },
      {
       "output_type": "stream",
       "stream": "stdout",
       "text": [
        "23000 "
       ]
      },
      {
       "output_type": "stream",
       "stream": "stdout",
       "text": [
        "24000 "
       ]
      },
      {
       "output_type": "stream",
       "stream": "stdout",
       "text": [
        "25000 "
       ]
      },
      {
       "output_type": "stream",
       "stream": "stdout",
       "text": [
        "26000 "
       ]
      },
      {
       "output_type": "stream",
       "stream": "stdout",
       "text": [
        "27000 "
       ]
      },
      {
       "output_type": "stream",
       "stream": "stdout",
       "text": [
        "28000 "
       ]
      },
      {
       "output_type": "stream",
       "stream": "stdout",
       "text": [
        "29000 "
       ]
      },
      {
       "output_type": "stream",
       "stream": "stdout",
       "text": [
        "30000 "
       ]
      },
      {
       "output_type": "stream",
       "stream": "stdout",
       "text": [
        "31000 "
       ]
      },
      {
       "output_type": "stream",
       "stream": "stdout",
       "text": [
        "32000 "
       ]
      },
      {
       "output_type": "stream",
       "stream": "stdout",
       "text": [
        "33000 "
       ]
      },
      {
       "output_type": "stream",
       "stream": "stdout",
       "text": [
        "34000 "
       ]
      },
      {
       "output_type": "stream",
       "stream": "stdout",
       "text": [
        "35000 "
       ]
      },
      {
       "output_type": "stream",
       "stream": "stdout",
       "text": [
        "36000 "
       ]
      },
      {
       "output_type": "stream",
       "stream": "stdout",
       "text": [
        "37000 "
       ]
      },
      {
       "output_type": "stream",
       "stream": "stdout",
       "text": [
        "38000 "
       ]
      },
      {
       "output_type": "stream",
       "stream": "stdout",
       "text": [
        "39000 "
       ]
      },
      {
       "output_type": "stream",
       "stream": "stdout",
       "text": [
        "40000 "
       ]
      },
      {
       "output_type": "stream",
       "stream": "stdout",
       "text": [
        "41000 "
       ]
      },
      {
       "output_type": "stream",
       "stream": "stdout",
       "text": [
        "42000 "
       ]
      },
      {
       "output_type": "stream",
       "stream": "stdout",
       "text": [
        "43000 "
       ]
      },
      {
       "output_type": "stream",
       "stream": "stdout",
       "text": [
        "44000 "
       ]
      },
      {
       "output_type": "stream",
       "stream": "stdout",
       "text": [
        "45000 "
       ]
      },
      {
       "output_type": "stream",
       "stream": "stdout",
       "text": [
        "46000 "
       ]
      },
      {
       "output_type": "stream",
       "stream": "stdout",
       "text": [
        "47000 "
       ]
      },
      {
       "output_type": "stream",
       "stream": "stdout",
       "text": [
        "48000 "
       ]
      },
      {
       "output_type": "stream",
       "stream": "stdout",
       "text": [
        "49000 "
       ]
      },
      {
       "output_type": "stream",
       "stream": "stdout",
       "text": [
        "50000 "
       ]
      },
      {
       "output_type": "stream",
       "stream": "stdout",
       "text": [
        "51000 "
       ]
      },
      {
       "output_type": "stream",
       "stream": "stdout",
       "text": [
        "52000 "
       ]
      },
      {
       "output_type": "stream",
       "stream": "stdout",
       "text": [
        "53000 "
       ]
      },
      {
       "output_type": "stream",
       "stream": "stdout",
       "text": [
        "54000 "
       ]
      },
      {
       "output_type": "stream",
       "stream": "stdout",
       "text": [
        "55000 "
       ]
      },
      {
       "output_type": "stream",
       "stream": "stdout",
       "text": [
        "56000 "
       ]
      },
      {
       "output_type": "stream",
       "stream": "stdout",
       "text": [
        "57000 "
       ]
      },
      {
       "output_type": "stream",
       "stream": "stdout",
       "text": [
        "58000 "
       ]
      },
      {
       "output_type": "stream",
       "stream": "stdout",
       "text": [
        "59000 "
       ]
      },
      {
       "output_type": "stream",
       "stream": "stdout",
       "text": [
        "60000 "
       ]
      },
      {
       "output_type": "stream",
       "stream": "stdout",
       "text": [
        "61000 "
       ]
      },
      {
       "output_type": "stream",
       "stream": "stdout",
       "text": [
        "62000 "
       ]
      },
      {
       "output_type": "stream",
       "stream": "stdout",
       "text": [
        "63000 "
       ]
      },
      {
       "output_type": "stream",
       "stream": "stdout",
       "text": [
        "64000 "
       ]
      },
      {
       "output_type": "stream",
       "stream": "stdout",
       "text": [
        "65000 "
       ]
      },
      {
       "output_type": "stream",
       "stream": "stdout",
       "text": [
        "66000 "
       ]
      },
      {
       "output_type": "stream",
       "stream": "stdout",
       "text": [
        "67000 "
       ]
      },
      {
       "output_type": "stream",
       "stream": "stdout",
       "text": [
        "68000 "
       ]
      },
      {
       "output_type": "stream",
       "stream": "stdout",
       "text": [
        "69000 "
       ]
      },
      {
       "output_type": "stream",
       "stream": "stdout",
       "text": [
        "70000 "
       ]
      },
      {
       "output_type": "stream",
       "stream": "stdout",
       "text": [
        "71000 "
       ]
      },
      {
       "output_type": "stream",
       "stream": "stdout",
       "text": [
        "72000 "
       ]
      },
      {
       "output_type": "stream",
       "stream": "stdout",
       "text": [
        "73000 "
       ]
      },
      {
       "output_type": "stream",
       "stream": "stdout",
       "text": [
        "74000 "
       ]
      },
      {
       "output_type": "stream",
       "stream": "stdout",
       "text": [
        "75000 "
       ]
      },
      {
       "output_type": "stream",
       "stream": "stdout",
       "text": [
        "76000 "
       ]
      },
      {
       "output_type": "stream",
       "stream": "stdout",
       "text": [
        "77000 "
       ]
      },
      {
       "output_type": "stream",
       "stream": "stdout",
       "text": [
        "78000 "
       ]
      },
      {
       "output_type": "stream",
       "stream": "stdout",
       "text": [
        "79000 "
       ]
      },
      {
       "output_type": "stream",
       "stream": "stdout",
       "text": [
        "80000 "
       ]
      },
      {
       "output_type": "stream",
       "stream": "stdout",
       "text": [
        "81000 "
       ]
      },
      {
       "output_type": "stream",
       "stream": "stdout",
       "text": [
        "82000 "
       ]
      },
      {
       "output_type": "stream",
       "stream": "stdout",
       "text": [
        "83000 "
       ]
      },
      {
       "output_type": "stream",
       "stream": "stdout",
       "text": [
        "84000 "
       ]
      },
      {
       "output_type": "stream",
       "stream": "stdout",
       "text": [
        "85000 "
       ]
      },
      {
       "output_type": "stream",
       "stream": "stdout",
       "text": [
        "86000 "
       ]
      },
      {
       "output_type": "stream",
       "stream": "stdout",
       "text": [
        "87000 "
       ]
      },
      {
       "output_type": "stream",
       "stream": "stdout",
       "text": [
        "88000 "
       ]
      },
      {
       "output_type": "stream",
       "stream": "stdout",
       "text": [
        "89000 "
       ]
      },
      {
       "output_type": "stream",
       "stream": "stdout",
       "text": [
        "90000 "
       ]
      },
      {
       "output_type": "stream",
       "stream": "stdout",
       "text": [
        "91000 "
       ]
      },
      {
       "output_type": "stream",
       "stream": "stdout",
       "text": [
        "92000 "
       ]
      },
      {
       "output_type": "stream",
       "stream": "stdout",
       "text": [
        "93000 "
       ]
      },
      {
       "output_type": "stream",
       "stream": "stdout",
       "text": [
        "94000 "
       ]
      },
      {
       "output_type": "stream",
       "stream": "stdout",
       "text": [
        "95000 "
       ]
      },
      {
       "output_type": "stream",
       "stream": "stdout",
       "text": [
        "96000 "
       ]
      },
      {
       "output_type": "stream",
       "stream": "stdout",
       "text": [
        "97000 "
       ]
      },
      {
       "output_type": "stream",
       "stream": "stdout",
       "text": [
        "98000 "
       ]
      },
      {
       "output_type": "stream",
       "stream": "stdout",
       "text": [
        "99000 "
       ]
      },
      {
       "output_type": "stream",
       "stream": "stdout",
       "text": [
        "100000 "
       ]
      },
      {
       "output_type": "stream",
       "stream": "stdout",
       "text": [
        "101000 "
       ]
      },
      {
       "output_type": "stream",
       "stream": "stdout",
       "text": [
        "102000 "
       ]
      },
      {
       "output_type": "stream",
       "stream": "stdout",
       "text": [
        "103000 "
       ]
      },
      {
       "output_type": "stream",
       "stream": "stdout",
       "text": [
        "104000 "
       ]
      },
      {
       "output_type": "stream",
       "stream": "stdout",
       "text": [
        "105000 "
       ]
      },
      {
       "output_type": "stream",
       "stream": "stdout",
       "text": [
        "106000 "
       ]
      },
      {
       "output_type": "stream",
       "stream": "stdout",
       "text": [
        "107000 "
       ]
      },
      {
       "output_type": "stream",
       "stream": "stdout",
       "text": [
        "108000 "
       ]
      },
      {
       "output_type": "stream",
       "stream": "stdout",
       "text": [
        "109000 "
       ]
      },
      {
       "output_type": "stream",
       "stream": "stdout",
       "text": [
        "110000 "
       ]
      },
      {
       "output_type": "stream",
       "stream": "stdout",
       "text": [
        "111000 "
       ]
      },
      {
       "output_type": "stream",
       "stream": "stdout",
       "text": [
        "112000 "
       ]
      },
      {
       "output_type": "stream",
       "stream": "stdout",
       "text": [
        "113000 "
       ]
      },
      {
       "output_type": "stream",
       "stream": "stdout",
       "text": [
        "114000 "
       ]
      },
      {
       "output_type": "stream",
       "stream": "stdout",
       "text": [
        "115000 "
       ]
      },
      {
       "output_type": "stream",
       "stream": "stdout",
       "text": [
        "116000 "
       ]
      },
      {
       "output_type": "stream",
       "stream": "stdout",
       "text": [
        "117000 "
       ]
      },
      {
       "output_type": "stream",
       "stream": "stdout",
       "text": [
        "118000 "
       ]
      },
      {
       "output_type": "stream",
       "stream": "stdout",
       "text": [
        "119000 "
       ]
      },
      {
       "output_type": "stream",
       "stream": "stdout",
       "text": [
        "120000 "
       ]
      },
      {
       "output_type": "stream",
       "stream": "stdout",
       "text": [
        "121000 "
       ]
      },
      {
       "output_type": "stream",
       "stream": "stdout",
       "text": [
        "122000 "
       ]
      },
      {
       "output_type": "stream",
       "stream": "stdout",
       "text": [
        "123000 "
       ]
      },
      {
       "output_type": "stream",
       "stream": "stdout",
       "text": [
        "124000 "
       ]
      },
      {
       "output_type": "stream",
       "stream": "stdout",
       "text": [
        "125000 "
       ]
      },
      {
       "output_type": "stream",
       "stream": "stdout",
       "text": [
        "126000 "
       ]
      },
      {
       "output_type": "stream",
       "stream": "stdout",
       "text": [
        "127000 "
       ]
      },
      {
       "output_type": "stream",
       "stream": "stdout",
       "text": [
        "128000 "
       ]
      },
      {
       "output_type": "stream",
       "stream": "stdout",
       "text": [
        "129000 "
       ]
      },
      {
       "output_type": "stream",
       "stream": "stdout",
       "text": [
        "130000 "
       ]
      },
      {
       "output_type": "stream",
       "stream": "stdout",
       "text": [
        "131000 "
       ]
      },
      {
       "output_type": "stream",
       "stream": "stdout",
       "text": [
        "132000 "
       ]
      },
      {
       "output_type": "stream",
       "stream": "stdout",
       "text": [
        "133000 "
       ]
      },
      {
       "output_type": "stream",
       "stream": "stdout",
       "text": [
        "134000 "
       ]
      },
      {
       "output_type": "stream",
       "stream": "stdout",
       "text": [
        "135000 "
       ]
      },
      {
       "output_type": "stream",
       "stream": "stdout",
       "text": [
        "136000 "
       ]
      },
      {
       "output_type": "stream",
       "stream": "stdout",
       "text": [
        "137000 "
       ]
      },
      {
       "output_type": "stream",
       "stream": "stdout",
       "text": [
        "138000 "
       ]
      },
      {
       "output_type": "stream",
       "stream": "stdout",
       "text": [
        "139000 "
       ]
      },
      {
       "output_type": "stream",
       "stream": "stdout",
       "text": [
        "140000 "
       ]
      },
      {
       "output_type": "stream",
       "stream": "stdout",
       "text": [
        "141000 "
       ]
      },
      {
       "output_type": "stream",
       "stream": "stdout",
       "text": [
        "142000 "
       ]
      },
      {
       "output_type": "stream",
       "stream": "stdout",
       "text": [
        "143000 "
       ]
      },
      {
       "output_type": "stream",
       "stream": "stdout",
       "text": [
        "144000 "
       ]
      },
      {
       "output_type": "stream",
       "stream": "stdout",
       "text": [
        "145000 "
       ]
      },
      {
       "output_type": "stream",
       "stream": "stdout",
       "text": [
        "146000 "
       ]
      },
      {
       "output_type": "stream",
       "stream": "stdout",
       "text": [
        "147000 "
       ]
      },
      {
       "output_type": "stream",
       "stream": "stdout",
       "text": [
        "148000 "
       ]
      },
      {
       "output_type": "stream",
       "stream": "stdout",
       "text": [
        "149000 "
       ]
      },
      {
       "output_type": "stream",
       "stream": "stdout",
       "text": [
        "150000 "
       ]
      },
      {
       "output_type": "stream",
       "stream": "stdout",
       "text": [
        "151000 "
       ]
      },
      {
       "output_type": "stream",
       "stream": "stdout",
       "text": [
        "152000 "
       ]
      },
      {
       "output_type": "stream",
       "stream": "stdout",
       "text": [
        "153000 "
       ]
      },
      {
       "output_type": "stream",
       "stream": "stdout",
       "text": [
        "154000 "
       ]
      },
      {
       "output_type": "stream",
       "stream": "stdout",
       "text": [
        "155000 "
       ]
      },
      {
       "output_type": "stream",
       "stream": "stdout",
       "text": [
        "156000 "
       ]
      },
      {
       "output_type": "stream",
       "stream": "stdout",
       "text": [
        "3\n",
        "0 "
       ]
      },
      {
       "output_type": "stream",
       "stream": "stdout",
       "text": [
        "1000 "
       ]
      },
      {
       "output_type": "stream",
       "stream": "stdout",
       "text": [
        "2000 "
       ]
      },
      {
       "output_type": "stream",
       "stream": "stdout",
       "text": [
        "3000 "
       ]
      },
      {
       "output_type": "stream",
       "stream": "stdout",
       "text": [
        "4000 "
       ]
      },
      {
       "output_type": "stream",
       "stream": "stdout",
       "text": [
        "5000 "
       ]
      },
      {
       "output_type": "stream",
       "stream": "stdout",
       "text": [
        "6000 "
       ]
      },
      {
       "output_type": "stream",
       "stream": "stdout",
       "text": [
        "7000 "
       ]
      },
      {
       "output_type": "stream",
       "stream": "stdout",
       "text": [
        "8000 "
       ]
      },
      {
       "output_type": "stream",
       "stream": "stdout",
       "text": [
        "9000 "
       ]
      },
      {
       "output_type": "stream",
       "stream": "stdout",
       "text": [
        "10000 "
       ]
      },
      {
       "output_type": "stream",
       "stream": "stdout",
       "text": [
        "11000 "
       ]
      },
      {
       "output_type": "stream",
       "stream": "stdout",
       "text": [
        "12000 "
       ]
      },
      {
       "output_type": "stream",
       "stream": "stdout",
       "text": [
        "13000 "
       ]
      },
      {
       "output_type": "stream",
       "stream": "stdout",
       "text": [
        "14000 "
       ]
      },
      {
       "output_type": "stream",
       "stream": "stdout",
       "text": [
        "15000 "
       ]
      },
      {
       "output_type": "stream",
       "stream": "stdout",
       "text": [
        "16000 "
       ]
      },
      {
       "output_type": "stream",
       "stream": "stdout",
       "text": [
        "17000 "
       ]
      },
      {
       "output_type": "stream",
       "stream": "stdout",
       "text": [
        "18000 "
       ]
      },
      {
       "output_type": "stream",
       "stream": "stdout",
       "text": [
        "19000 "
       ]
      },
      {
       "output_type": "stream",
       "stream": "stdout",
       "text": [
        "20000 "
       ]
      },
      {
       "output_type": "stream",
       "stream": "stdout",
       "text": [
        "21000 "
       ]
      },
      {
       "output_type": "stream",
       "stream": "stdout",
       "text": [
        "22000 "
       ]
      },
      {
       "output_type": "stream",
       "stream": "stdout",
       "text": [
        "23000 "
       ]
      },
      {
       "output_type": "stream",
       "stream": "stdout",
       "text": [
        "24000 "
       ]
      },
      {
       "output_type": "stream",
       "stream": "stdout",
       "text": [
        "25000 "
       ]
      },
      {
       "output_type": "stream",
       "stream": "stdout",
       "text": [
        "26000 "
       ]
      },
      {
       "output_type": "stream",
       "stream": "stdout",
       "text": [
        "27000 "
       ]
      },
      {
       "output_type": "stream",
       "stream": "stdout",
       "text": [
        "28000 "
       ]
      },
      {
       "output_type": "stream",
       "stream": "stdout",
       "text": [
        "29000 "
       ]
      },
      {
       "output_type": "stream",
       "stream": "stdout",
       "text": [
        "30000 "
       ]
      },
      {
       "output_type": "stream",
       "stream": "stdout",
       "text": [
        "31000 "
       ]
      },
      {
       "output_type": "stream",
       "stream": "stdout",
       "text": [
        "32000 "
       ]
      },
      {
       "output_type": "stream",
       "stream": "stdout",
       "text": [
        "33000 "
       ]
      },
      {
       "output_type": "stream",
       "stream": "stdout",
       "text": [
        "34000 "
       ]
      },
      {
       "output_type": "stream",
       "stream": "stdout",
       "text": [
        "35000 "
       ]
      },
      {
       "output_type": "stream",
       "stream": "stdout",
       "text": [
        "36000 "
       ]
      },
      {
       "output_type": "stream",
       "stream": "stdout",
       "text": [
        "37000 "
       ]
      },
      {
       "output_type": "stream",
       "stream": "stdout",
       "text": [
        "38000 "
       ]
      },
      {
       "output_type": "stream",
       "stream": "stdout",
       "text": [
        "39000 "
       ]
      },
      {
       "output_type": "stream",
       "stream": "stdout",
       "text": [
        "40000 "
       ]
      },
      {
       "output_type": "stream",
       "stream": "stdout",
       "text": [
        "41000 "
       ]
      },
      {
       "output_type": "stream",
       "stream": "stdout",
       "text": [
        "42000 "
       ]
      },
      {
       "output_type": "stream",
       "stream": "stdout",
       "text": [
        "43000 "
       ]
      },
      {
       "output_type": "stream",
       "stream": "stdout",
       "text": [
        "44000 "
       ]
      },
      {
       "output_type": "stream",
       "stream": "stdout",
       "text": [
        "45000 "
       ]
      },
      {
       "output_type": "stream",
       "stream": "stdout",
       "text": [
        "46000 "
       ]
      },
      {
       "output_type": "stream",
       "stream": "stdout",
       "text": [
        "47000 "
       ]
      },
      {
       "output_type": "stream",
       "stream": "stdout",
       "text": [
        "48000 "
       ]
      },
      {
       "output_type": "stream",
       "stream": "stdout",
       "text": [
        "49000 "
       ]
      },
      {
       "output_type": "stream",
       "stream": "stdout",
       "text": [
        "50000 "
       ]
      },
      {
       "output_type": "stream",
       "stream": "stdout",
       "text": [
        "51000 "
       ]
      },
      {
       "output_type": "stream",
       "stream": "stdout",
       "text": [
        "52000 "
       ]
      },
      {
       "output_type": "stream",
       "stream": "stdout",
       "text": [
        "53000 "
       ]
      },
      {
       "output_type": "stream",
       "stream": "stdout",
       "text": [
        "54000 "
       ]
      },
      {
       "output_type": "stream",
       "stream": "stdout",
       "text": [
        "55000 "
       ]
      },
      {
       "output_type": "stream",
       "stream": "stdout",
       "text": [
        "56000 "
       ]
      },
      {
       "output_type": "stream",
       "stream": "stdout",
       "text": [
        "57000 "
       ]
      },
      {
       "output_type": "stream",
       "stream": "stdout",
       "text": [
        "58000 "
       ]
      },
      {
       "output_type": "stream",
       "stream": "stdout",
       "text": [
        "59000 "
       ]
      },
      {
       "output_type": "stream",
       "stream": "stdout",
       "text": [
        "60000 "
       ]
      },
      {
       "output_type": "stream",
       "stream": "stdout",
       "text": [
        "61000 "
       ]
      },
      {
       "output_type": "stream",
       "stream": "stdout",
       "text": [
        "62000 "
       ]
      },
      {
       "output_type": "stream",
       "stream": "stdout",
       "text": [
        "63000 "
       ]
      },
      {
       "output_type": "stream",
       "stream": "stdout",
       "text": [
        "64000 "
       ]
      },
      {
       "output_type": "stream",
       "stream": "stdout",
       "text": [
        "65000 "
       ]
      },
      {
       "output_type": "stream",
       "stream": "stdout",
       "text": [
        "66000 "
       ]
      },
      {
       "output_type": "stream",
       "stream": "stdout",
       "text": [
        "67000 "
       ]
      },
      {
       "output_type": "stream",
       "stream": "stdout",
       "text": [
        "68000 "
       ]
      },
      {
       "output_type": "stream",
       "stream": "stdout",
       "text": [
        "69000 "
       ]
      },
      {
       "output_type": "stream",
       "stream": "stdout",
       "text": [
        "70000 "
       ]
      },
      {
       "output_type": "stream",
       "stream": "stdout",
       "text": [
        "71000 "
       ]
      },
      {
       "output_type": "stream",
       "stream": "stdout",
       "text": [
        "72000 "
       ]
      },
      {
       "output_type": "stream",
       "stream": "stdout",
       "text": [
        "73000 "
       ]
      },
      {
       "output_type": "stream",
       "stream": "stdout",
       "text": [
        "74000 "
       ]
      },
      {
       "output_type": "stream",
       "stream": "stdout",
       "text": [
        "75000 "
       ]
      },
      {
       "output_type": "stream",
       "stream": "stdout",
       "text": [
        "76000 "
       ]
      },
      {
       "output_type": "stream",
       "stream": "stdout",
       "text": [
        "77000 "
       ]
      },
      {
       "output_type": "stream",
       "stream": "stdout",
       "text": [
        "78000 "
       ]
      },
      {
       "output_type": "stream",
       "stream": "stdout",
       "text": [
        "79000 "
       ]
      },
      {
       "output_type": "stream",
       "stream": "stdout",
       "text": [
        "80000 "
       ]
      },
      {
       "output_type": "stream",
       "stream": "stdout",
       "text": [
        "81000 "
       ]
      },
      {
       "output_type": "stream",
       "stream": "stdout",
       "text": [
        "82000 "
       ]
      },
      {
       "output_type": "stream",
       "stream": "stdout",
       "text": [
        "83000 "
       ]
      },
      {
       "output_type": "stream",
       "stream": "stdout",
       "text": [
        "84000 "
       ]
      },
      {
       "output_type": "stream",
       "stream": "stdout",
       "text": [
        "85000 "
       ]
      },
      {
       "output_type": "stream",
       "stream": "stdout",
       "text": [
        "86000 "
       ]
      },
      {
       "output_type": "stream",
       "stream": "stdout",
       "text": [
        "87000 "
       ]
      },
      {
       "output_type": "stream",
       "stream": "stdout",
       "text": [
        "88000 "
       ]
      },
      {
       "output_type": "stream",
       "stream": "stdout",
       "text": [
        "89000 "
       ]
      },
      {
       "output_type": "stream",
       "stream": "stdout",
       "text": [
        "90000 "
       ]
      },
      {
       "output_type": "stream",
       "stream": "stdout",
       "text": [
        "91000 "
       ]
      },
      {
       "output_type": "stream",
       "stream": "stdout",
       "text": [
        "92000 "
       ]
      },
      {
       "output_type": "stream",
       "stream": "stdout",
       "text": [
        "93000 "
       ]
      },
      {
       "output_type": "stream",
       "stream": "stdout",
       "text": [
        "94000 "
       ]
      },
      {
       "output_type": "stream",
       "stream": "stdout",
       "text": [
        "95000 "
       ]
      },
      {
       "output_type": "stream",
       "stream": "stdout",
       "text": [
        "96000 "
       ]
      },
      {
       "output_type": "stream",
       "stream": "stdout",
       "text": [
        "97000 "
       ]
      },
      {
       "output_type": "stream",
       "stream": "stdout",
       "text": [
        "98000 "
       ]
      },
      {
       "output_type": "stream",
       "stream": "stdout",
       "text": [
        "99000 "
       ]
      },
      {
       "output_type": "stream",
       "stream": "stdout",
       "text": [
        "100000 "
       ]
      },
      {
       "output_type": "stream",
       "stream": "stdout",
       "text": [
        "101000 "
       ]
      },
      {
       "output_type": "stream",
       "stream": "stdout",
       "text": [
        "102000 "
       ]
      },
      {
       "output_type": "stream",
       "stream": "stdout",
       "text": [
        "103000 "
       ]
      },
      {
       "output_type": "stream",
       "stream": "stdout",
       "text": [
        "104000 "
       ]
      },
      {
       "output_type": "stream",
       "stream": "stdout",
       "text": [
        "105000 "
       ]
      },
      {
       "output_type": "stream",
       "stream": "stdout",
       "text": [
        "106000 "
       ]
      },
      {
       "output_type": "stream",
       "stream": "stdout",
       "text": [
        "107000 "
       ]
      },
      {
       "output_type": "stream",
       "stream": "stdout",
       "text": [
        "108000 "
       ]
      },
      {
       "output_type": "stream",
       "stream": "stdout",
       "text": [
        "109000 "
       ]
      },
      {
       "output_type": "stream",
       "stream": "stdout",
       "text": [
        "110000 "
       ]
      },
      {
       "output_type": "stream",
       "stream": "stdout",
       "text": [
        "111000 "
       ]
      },
      {
       "output_type": "stream",
       "stream": "stdout",
       "text": [
        "112000 "
       ]
      },
      {
       "output_type": "stream",
       "stream": "stdout",
       "text": [
        "113000 "
       ]
      },
      {
       "output_type": "stream",
       "stream": "stdout",
       "text": [
        "114000 "
       ]
      },
      {
       "output_type": "stream",
       "stream": "stdout",
       "text": [
        "115000 "
       ]
      },
      {
       "output_type": "stream",
       "stream": "stdout",
       "text": [
        "116000 "
       ]
      },
      {
       "output_type": "stream",
       "stream": "stdout",
       "text": [
        "117000 "
       ]
      },
      {
       "output_type": "stream",
       "stream": "stdout",
       "text": [
        "118000 "
       ]
      },
      {
       "output_type": "stream",
       "stream": "stdout",
       "text": [
        "119000 "
       ]
      },
      {
       "output_type": "stream",
       "stream": "stdout",
       "text": [
        "120000 "
       ]
      },
      {
       "output_type": "stream",
       "stream": "stdout",
       "text": [
        "121000 "
       ]
      },
      {
       "output_type": "stream",
       "stream": "stdout",
       "text": [
        "122000 "
       ]
      },
      {
       "output_type": "stream",
       "stream": "stdout",
       "text": [
        "123000 "
       ]
      },
      {
       "output_type": "stream",
       "stream": "stdout",
       "text": [
        "124000 "
       ]
      },
      {
       "output_type": "stream",
       "stream": "stdout",
       "text": [
        "125000 "
       ]
      },
      {
       "output_type": "stream",
       "stream": "stdout",
       "text": [
        "126000 "
       ]
      },
      {
       "output_type": "stream",
       "stream": "stdout",
       "text": [
        "127000 "
       ]
      },
      {
       "output_type": "stream",
       "stream": "stdout",
       "text": [
        "128000 "
       ]
      },
      {
       "output_type": "stream",
       "stream": "stdout",
       "text": [
        "129000 "
       ]
      },
      {
       "output_type": "stream",
       "stream": "stdout",
       "text": [
        "130000 "
       ]
      },
      {
       "output_type": "stream",
       "stream": "stdout",
       "text": [
        "131000 "
       ]
      },
      {
       "output_type": "stream",
       "stream": "stdout",
       "text": [
        "132000 "
       ]
      },
      {
       "output_type": "stream",
       "stream": "stdout",
       "text": [
        "133000 "
       ]
      },
      {
       "output_type": "stream",
       "stream": "stdout",
       "text": [
        "134000 "
       ]
      },
      {
       "output_type": "stream",
       "stream": "stdout",
       "text": [
        "135000 "
       ]
      },
      {
       "output_type": "stream",
       "stream": "stdout",
       "text": [
        "136000 "
       ]
      },
      {
       "output_type": "stream",
       "stream": "stdout",
       "text": [
        "137000 "
       ]
      },
      {
       "output_type": "stream",
       "stream": "stdout",
       "text": [
        "138000 "
       ]
      },
      {
       "output_type": "stream",
       "stream": "stdout",
       "text": [
        "139000 "
       ]
      },
      {
       "output_type": "stream",
       "stream": "stdout",
       "text": [
        "140000 "
       ]
      },
      {
       "output_type": "stream",
       "stream": "stdout",
       "text": [
        "141000 "
       ]
      },
      {
       "output_type": "stream",
       "stream": "stdout",
       "text": [
        "142000 "
       ]
      },
      {
       "output_type": "stream",
       "stream": "stdout",
       "text": [
        "143000 "
       ]
      },
      {
       "output_type": "stream",
       "stream": "stdout",
       "text": [
        "144000 "
       ]
      },
      {
       "output_type": "stream",
       "stream": "stdout",
       "text": [
        "145000 "
       ]
      },
      {
       "output_type": "stream",
       "stream": "stdout",
       "text": [
        "146000 "
       ]
      },
      {
       "output_type": "stream",
       "stream": "stdout",
       "text": [
        "147000 "
       ]
      },
      {
       "output_type": "stream",
       "stream": "stdout",
       "text": [
        "148000 "
       ]
      },
      {
       "output_type": "stream",
       "stream": "stdout",
       "text": [
        "149000 "
       ]
      },
      {
       "output_type": "stream",
       "stream": "stdout",
       "text": [
        "150000 "
       ]
      },
      {
       "output_type": "stream",
       "stream": "stdout",
       "text": [
        "151000 "
       ]
      },
      {
       "output_type": "stream",
       "stream": "stdout",
       "text": [
        "152000 "
       ]
      },
      {
       "output_type": "stream",
       "stream": "stdout",
       "text": [
        "153000 "
       ]
      },
      {
       "output_type": "stream",
       "stream": "stdout",
       "text": [
        "154000 "
       ]
      },
      {
       "output_type": "stream",
       "stream": "stdout",
       "text": [
        "155000 "
       ]
      },
      {
       "output_type": "stream",
       "stream": "stdout",
       "text": [
        "156000 "
       ]
      },
      {
       "output_type": "stream",
       "stream": "stdout",
       "text": [
        "4\n",
        "0 "
       ]
      },
      {
       "output_type": "stream",
       "stream": "stdout",
       "text": [
        "1000 "
       ]
      },
      {
       "output_type": "stream",
       "stream": "stdout",
       "text": [
        "2000 "
       ]
      },
      {
       "output_type": "stream",
       "stream": "stdout",
       "text": [
        "3000 "
       ]
      },
      {
       "output_type": "stream",
       "stream": "stdout",
       "text": [
        "4000 "
       ]
      },
      {
       "output_type": "stream",
       "stream": "stdout",
       "text": [
        "5000 "
       ]
      },
      {
       "output_type": "stream",
       "stream": "stdout",
       "text": [
        "6000 "
       ]
      },
      {
       "output_type": "stream",
       "stream": "stdout",
       "text": [
        "7000 "
       ]
      },
      {
       "output_type": "stream",
       "stream": "stdout",
       "text": [
        "8000 "
       ]
      },
      {
       "output_type": "stream",
       "stream": "stdout",
       "text": [
        "9000 "
       ]
      },
      {
       "output_type": "stream",
       "stream": "stdout",
       "text": [
        "10000 "
       ]
      },
      {
       "output_type": "stream",
       "stream": "stdout",
       "text": [
        "11000 "
       ]
      },
      {
       "output_type": "stream",
       "stream": "stdout",
       "text": [
        "12000 "
       ]
      },
      {
       "output_type": "stream",
       "stream": "stdout",
       "text": [
        "13000 "
       ]
      },
      {
       "output_type": "stream",
       "stream": "stdout",
       "text": [
        "14000 "
       ]
      },
      {
       "output_type": "stream",
       "stream": "stdout",
       "text": [
        "15000 "
       ]
      },
      {
       "output_type": "stream",
       "stream": "stdout",
       "text": [
        "16000 "
       ]
      },
      {
       "output_type": "stream",
       "stream": "stdout",
       "text": [
        "17000 "
       ]
      },
      {
       "output_type": "stream",
       "stream": "stdout",
       "text": [
        "18000 "
       ]
      },
      {
       "output_type": "stream",
       "stream": "stdout",
       "text": [
        "19000 "
       ]
      },
      {
       "output_type": "stream",
       "stream": "stdout",
       "text": [
        "20000 "
       ]
      },
      {
       "output_type": "stream",
       "stream": "stdout",
       "text": [
        "21000 "
       ]
      },
      {
       "output_type": "stream",
       "stream": "stdout",
       "text": [
        "22000 "
       ]
      },
      {
       "output_type": "stream",
       "stream": "stdout",
       "text": [
        "23000 "
       ]
      },
      {
       "output_type": "stream",
       "stream": "stdout",
       "text": [
        "24000 "
       ]
      },
      {
       "output_type": "stream",
       "stream": "stdout",
       "text": [
        "25000 "
       ]
      },
      {
       "output_type": "stream",
       "stream": "stdout",
       "text": [
        "26000 "
       ]
      },
      {
       "output_type": "stream",
       "stream": "stdout",
       "text": [
        "27000 "
       ]
      },
      {
       "output_type": "stream",
       "stream": "stdout",
       "text": [
        "28000 "
       ]
      },
      {
       "output_type": "stream",
       "stream": "stdout",
       "text": [
        "29000 "
       ]
      },
      {
       "output_type": "stream",
       "stream": "stdout",
       "text": [
        "30000 "
       ]
      },
      {
       "output_type": "stream",
       "stream": "stdout",
       "text": [
        "31000 "
       ]
      },
      {
       "output_type": "stream",
       "stream": "stdout",
       "text": [
        "32000 "
       ]
      },
      {
       "output_type": "stream",
       "stream": "stdout",
       "text": [
        "33000 "
       ]
      },
      {
       "output_type": "stream",
       "stream": "stdout",
       "text": [
        "34000 "
       ]
      },
      {
       "output_type": "stream",
       "stream": "stdout",
       "text": [
        "35000 "
       ]
      },
      {
       "output_type": "stream",
       "stream": "stdout",
       "text": [
        "36000 "
       ]
      },
      {
       "output_type": "stream",
       "stream": "stdout",
       "text": [
        "37000 "
       ]
      },
      {
       "output_type": "stream",
       "stream": "stdout",
       "text": [
        "38000 "
       ]
      },
      {
       "output_type": "stream",
       "stream": "stdout",
       "text": [
        "39000 "
       ]
      },
      {
       "output_type": "stream",
       "stream": "stdout",
       "text": [
        "40000 "
       ]
      },
      {
       "output_type": "stream",
       "stream": "stdout",
       "text": [
        "41000 "
       ]
      },
      {
       "output_type": "stream",
       "stream": "stdout",
       "text": [
        "42000 "
       ]
      },
      {
       "output_type": "stream",
       "stream": "stdout",
       "text": [
        "43000 "
       ]
      },
      {
       "output_type": "stream",
       "stream": "stdout",
       "text": [
        "44000 "
       ]
      },
      {
       "output_type": "stream",
       "stream": "stdout",
       "text": [
        "45000 "
       ]
      },
      {
       "output_type": "stream",
       "stream": "stdout",
       "text": [
        "46000 "
       ]
      },
      {
       "output_type": "stream",
       "stream": "stdout",
       "text": [
        "47000 "
       ]
      },
      {
       "output_type": "stream",
       "stream": "stdout",
       "text": [
        "48000 "
       ]
      },
      {
       "output_type": "stream",
       "stream": "stdout",
       "text": [
        "49000 "
       ]
      },
      {
       "output_type": "stream",
       "stream": "stdout",
       "text": [
        "50000 "
       ]
      },
      {
       "output_type": "stream",
       "stream": "stdout",
       "text": [
        "51000 "
       ]
      },
      {
       "output_type": "stream",
       "stream": "stdout",
       "text": [
        "52000 "
       ]
      },
      {
       "output_type": "stream",
       "stream": "stdout",
       "text": [
        "53000 "
       ]
      },
      {
       "output_type": "stream",
       "stream": "stdout",
       "text": [
        "54000 "
       ]
      },
      {
       "output_type": "stream",
       "stream": "stdout",
       "text": [
        "55000 "
       ]
      },
      {
       "output_type": "stream",
       "stream": "stdout",
       "text": [
        "56000 "
       ]
      },
      {
       "output_type": "stream",
       "stream": "stdout",
       "text": [
        "57000 "
       ]
      },
      {
       "output_type": "stream",
       "stream": "stdout",
       "text": [
        "58000 "
       ]
      },
      {
       "output_type": "stream",
       "stream": "stdout",
       "text": [
        "59000 "
       ]
      },
      {
       "output_type": "stream",
       "stream": "stdout",
       "text": [
        "60000 "
       ]
      },
      {
       "output_type": "stream",
       "stream": "stdout",
       "text": [
        "61000 "
       ]
      },
      {
       "output_type": "stream",
       "stream": "stdout",
       "text": [
        "62000 "
       ]
      },
      {
       "output_type": "stream",
       "stream": "stdout",
       "text": [
        "63000 "
       ]
      },
      {
       "output_type": "stream",
       "stream": "stdout",
       "text": [
        "64000 "
       ]
      },
      {
       "output_type": "stream",
       "stream": "stdout",
       "text": [
        "65000 "
       ]
      },
      {
       "output_type": "stream",
       "stream": "stdout",
       "text": [
        "66000 "
       ]
      },
      {
       "output_type": "stream",
       "stream": "stdout",
       "text": [
        "67000 "
       ]
      },
      {
       "output_type": "stream",
       "stream": "stdout",
       "text": [
        "68000 "
       ]
      },
      {
       "output_type": "stream",
       "stream": "stdout",
       "text": [
        "69000 "
       ]
      },
      {
       "output_type": "stream",
       "stream": "stdout",
       "text": [
        "70000 "
       ]
      },
      {
       "output_type": "stream",
       "stream": "stdout",
       "text": [
        "71000 "
       ]
      },
      {
       "output_type": "stream",
       "stream": "stdout",
       "text": [
        "72000 "
       ]
      },
      {
       "output_type": "stream",
       "stream": "stdout",
       "text": [
        "73000 "
       ]
      },
      {
       "output_type": "stream",
       "stream": "stdout",
       "text": [
        "74000 "
       ]
      },
      {
       "output_type": "stream",
       "stream": "stdout",
       "text": [
        "75000 "
       ]
      },
      {
       "output_type": "stream",
       "stream": "stdout",
       "text": [
        "76000 "
       ]
      },
      {
       "output_type": "stream",
       "stream": "stdout",
       "text": [
        "77000 "
       ]
      },
      {
       "output_type": "stream",
       "stream": "stdout",
       "text": [
        "78000 "
       ]
      },
      {
       "output_type": "stream",
       "stream": "stdout",
       "text": [
        "79000 "
       ]
      },
      {
       "output_type": "stream",
       "stream": "stdout",
       "text": [
        "80000 "
       ]
      },
      {
       "output_type": "stream",
       "stream": "stdout",
       "text": [
        "81000 "
       ]
      },
      {
       "output_type": "stream",
       "stream": "stdout",
       "text": [
        "82000 "
       ]
      },
      {
       "output_type": "stream",
       "stream": "stdout",
       "text": [
        "83000 "
       ]
      },
      {
       "output_type": "stream",
       "stream": "stdout",
       "text": [
        "84000 "
       ]
      },
      {
       "output_type": "stream",
       "stream": "stdout",
       "text": [
        "85000 "
       ]
      },
      {
       "output_type": "stream",
       "stream": "stdout",
       "text": [
        "86000 "
       ]
      },
      {
       "output_type": "stream",
       "stream": "stdout",
       "text": [
        "87000 "
       ]
      },
      {
       "output_type": "stream",
       "stream": "stdout",
       "text": [
        "88000 "
       ]
      },
      {
       "output_type": "stream",
       "stream": "stdout",
       "text": [
        "89000 "
       ]
      },
      {
       "output_type": "stream",
       "stream": "stdout",
       "text": [
        "90000 "
       ]
      },
      {
       "output_type": "stream",
       "stream": "stdout",
       "text": [
        "91000 "
       ]
      },
      {
       "output_type": "stream",
       "stream": "stdout",
       "text": [
        "92000 "
       ]
      },
      {
       "output_type": "stream",
       "stream": "stdout",
       "text": [
        "93000 "
       ]
      },
      {
       "output_type": "stream",
       "stream": "stdout",
       "text": [
        "94000 "
       ]
      },
      {
       "output_type": "stream",
       "stream": "stdout",
       "text": [
        "95000 "
       ]
      },
      {
       "output_type": "stream",
       "stream": "stdout",
       "text": [
        "96000 "
       ]
      },
      {
       "output_type": "stream",
       "stream": "stdout",
       "text": [
        "97000 "
       ]
      },
      {
       "output_type": "stream",
       "stream": "stdout",
       "text": [
        "98000 "
       ]
      },
      {
       "output_type": "stream",
       "stream": "stdout",
       "text": [
        "99000 "
       ]
      },
      {
       "output_type": "stream",
       "stream": "stdout",
       "text": [
        "100000 "
       ]
      },
      {
       "output_type": "stream",
       "stream": "stdout",
       "text": [
        "101000 "
       ]
      },
      {
       "output_type": "stream",
       "stream": "stdout",
       "text": [
        "102000 "
       ]
      },
      {
       "output_type": "stream",
       "stream": "stdout",
       "text": [
        "103000 "
       ]
      },
      {
       "output_type": "stream",
       "stream": "stdout",
       "text": [
        "104000 "
       ]
      },
      {
       "output_type": "stream",
       "stream": "stdout",
       "text": [
        "105000 "
       ]
      },
      {
       "output_type": "stream",
       "stream": "stdout",
       "text": [
        "106000 "
       ]
      },
      {
       "output_type": "stream",
       "stream": "stdout",
       "text": [
        "107000 "
       ]
      },
      {
       "output_type": "stream",
       "stream": "stdout",
       "text": [
        "108000 "
       ]
      },
      {
       "output_type": "stream",
       "stream": "stdout",
       "text": [
        "109000 "
       ]
      },
      {
       "output_type": "stream",
       "stream": "stdout",
       "text": [
        "110000 "
       ]
      },
      {
       "output_type": "stream",
       "stream": "stdout",
       "text": [
        "111000 "
       ]
      },
      {
       "output_type": "stream",
       "stream": "stdout",
       "text": [
        "112000 "
       ]
      },
      {
       "output_type": "stream",
       "stream": "stdout",
       "text": [
        "113000 "
       ]
      },
      {
       "output_type": "stream",
       "stream": "stdout",
       "text": [
        "114000 "
       ]
      },
      {
       "output_type": "stream",
       "stream": "stdout",
       "text": [
        "115000 "
       ]
      },
      {
       "output_type": "stream",
       "stream": "stdout",
       "text": [
        "116000 "
       ]
      },
      {
       "output_type": "stream",
       "stream": "stdout",
       "text": [
        "117000 "
       ]
      },
      {
       "output_type": "stream",
       "stream": "stdout",
       "text": [
        "118000 "
       ]
      },
      {
       "output_type": "stream",
       "stream": "stdout",
       "text": [
        "119000 "
       ]
      },
      {
       "output_type": "stream",
       "stream": "stdout",
       "text": [
        "120000 "
       ]
      },
      {
       "output_type": "stream",
       "stream": "stdout",
       "text": [
        "121000 "
       ]
      },
      {
       "output_type": "stream",
       "stream": "stdout",
       "text": [
        "122000 "
       ]
      },
      {
       "output_type": "stream",
       "stream": "stdout",
       "text": [
        "123000 "
       ]
      },
      {
       "output_type": "stream",
       "stream": "stdout",
       "text": [
        "124000 "
       ]
      },
      {
       "output_type": "stream",
       "stream": "stdout",
       "text": [
        "125000 "
       ]
      },
      {
       "output_type": "stream",
       "stream": "stdout",
       "text": [
        "126000 "
       ]
      },
      {
       "output_type": "stream",
       "stream": "stdout",
       "text": [
        "127000 "
       ]
      },
      {
       "output_type": "stream",
       "stream": "stdout",
       "text": [
        "128000 "
       ]
      },
      {
       "output_type": "stream",
       "stream": "stdout",
       "text": [
        "129000 "
       ]
      },
      {
       "output_type": "stream",
       "stream": "stdout",
       "text": [
        "130000 "
       ]
      },
      {
       "output_type": "stream",
       "stream": "stdout",
       "text": [
        "131000 "
       ]
      },
      {
       "output_type": "stream",
       "stream": "stdout",
       "text": [
        "132000 "
       ]
      },
      {
       "output_type": "stream",
       "stream": "stdout",
       "text": [
        "133000 "
       ]
      },
      {
       "output_type": "stream",
       "stream": "stdout",
       "text": [
        "134000 "
       ]
      },
      {
       "output_type": "stream",
       "stream": "stdout",
       "text": [
        "135000 "
       ]
      },
      {
       "output_type": "stream",
       "stream": "stdout",
       "text": [
        "136000 "
       ]
      },
      {
       "output_type": "stream",
       "stream": "stdout",
       "text": [
        "137000 "
       ]
      },
      {
       "output_type": "stream",
       "stream": "stdout",
       "text": [
        "138000 "
       ]
      },
      {
       "output_type": "stream",
       "stream": "stdout",
       "text": [
        "139000 "
       ]
      },
      {
       "output_type": "stream",
       "stream": "stdout",
       "text": [
        "140000 "
       ]
      },
      {
       "output_type": "stream",
       "stream": "stdout",
       "text": [
        "141000 "
       ]
      },
      {
       "output_type": "stream",
       "stream": "stdout",
       "text": [
        "142000 "
       ]
      },
      {
       "output_type": "stream",
       "stream": "stdout",
       "text": [
        "143000 "
       ]
      },
      {
       "output_type": "stream",
       "stream": "stdout",
       "text": [
        "144000 "
       ]
      },
      {
       "output_type": "stream",
       "stream": "stdout",
       "text": [
        "145000 "
       ]
      },
      {
       "output_type": "stream",
       "stream": "stdout",
       "text": [
        "146000 "
       ]
      },
      {
       "output_type": "stream",
       "stream": "stdout",
       "text": [
        "147000 "
       ]
      },
      {
       "output_type": "stream",
       "stream": "stdout",
       "text": [
        "148000 "
       ]
      },
      {
       "output_type": "stream",
       "stream": "stdout",
       "text": [
        "149000 "
       ]
      },
      {
       "output_type": "stream",
       "stream": "stdout",
       "text": [
        "150000 "
       ]
      },
      {
       "output_type": "stream",
       "stream": "stdout",
       "text": [
        "151000 "
       ]
      },
      {
       "output_type": "stream",
       "stream": "stdout",
       "text": [
        "152000 "
       ]
      },
      {
       "output_type": "stream",
       "stream": "stdout",
       "text": [
        "153000 "
       ]
      },
      {
       "output_type": "stream",
       "stream": "stdout",
       "text": [
        "154000 "
       ]
      },
      {
       "output_type": "stream",
       "stream": "stdout",
       "text": [
        "155000 "
       ]
      },
      {
       "output_type": "stream",
       "stream": "stdout",
       "text": [
        "156000\n"
       ]
      }
     ],
     "prompt_number": 106
    },
    {
     "cell_type": "code",
     "collapsed": false,
     "input": [
      "print clf.score(X,y)"
     ],
     "language": "python",
     "metadata": {},
     "outputs": [
      {
       "output_type": "stream",
       "stream": "stdout",
       "text": [
        "0.56391131616\n"
       ]
      }
     ],
     "prompt_number": 115
    },
    {
     "cell_type": "code",
     "collapsed": false,
     "input": [
      "y_pred = clf.predict(X_test).astype(int)\n",
      "\n",
      "fd = open('predict.csv','wb')\n",
      "pred_f = csv.writer(fd)\n",
      "pred_f.writerow([\"PhraseId\",\"Sentiment\"])\n",
      "pred_f.writerows(zip(test['PhraseId'], y_pred))\n",
      "fd.close()"
     ],
     "language": "python",
     "metadata": {},
     "outputs": [],
     "prompt_number": 130
    }
   ],
   "metadata": {}
  }
 ]
}