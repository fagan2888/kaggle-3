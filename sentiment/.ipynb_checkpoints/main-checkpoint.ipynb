{
 "metadata": {
  "name": "",
  "signature": "sha256:2e2b282369ce6f5716de8a40ec306c6cb0cc13e392da4c4e44b2d91bbb54131f"
 },
 "nbformat": 3,
 "nbformat_minor": 0,
 "worksheets": [
  {
   "cells": [
    {
     "cell_type": "code",
     "collapsed": false,
     "input": [],
     "language": "python",
     "metadata": {},
     "outputs": []
    }
   ],
   "metadata": {}
  }
 ]
}