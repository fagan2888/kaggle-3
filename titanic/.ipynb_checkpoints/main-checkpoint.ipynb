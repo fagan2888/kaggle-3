{
 "metadata": {
  "name": "",
  "signature": "sha256:db3e184b8502c2d1491804a96c506776145df72b2314baac322fe0ef808125d7"
 },
 "nbformat": 3,
 "nbformat_minor": 0,
 "worksheets": [
  {
   "cells": [
    {
     "cell_type": "code",
     "collapsed": false,
     "input": [
      "import numpy as np\n",
      "import csv\n",
      "import pandas as pd\n",
      "\n",
      "\n",
      "train = pd.read_csv('train.csv',sep=',',header=0)\n",
      "test = pd.read_csv('test.csv',sep=',',header=0)\n",
      "print train.shape, test.shape\n",
      "\n",
      "\n",
      "\n",
      "def pre_prosess(data, m_dict):\n",
      "    data['Gender'] = data['Sex'].map({'male':1,'female':0})\n",
      "    \n",
      "    fields = ['Embarked']\n",
      "    for f in fields:\n",
      "        \n",
      "        if len(data[f][data[f].isnull()])>0:\n",
      "            data[f][data[f].isnull()] = data[f].dropna().mode().values[0]\n",
      "            #print data[f].dropna().mode().values[0]\n",
      "        \n",
      "        if f not in m_dict:\n",
      "            m = list(enumerate(np.unique(data[f])))    \n",
      "            m_dict[f] = { name : i for i, name in m } \n",
      "        # print m_dict,len(data[f][data[f].isnull()]), data[f].dropna().mode()\n",
      "        data[f] = data[f].map(m_dict[f]).astype(int)\n",
      "        \n",
      "    fields = ['Age','Fare']\n",
      "    for f in fields:\n",
      "        if len(data[f][data[f].isnull()])>0:\n",
      "            data[f][data[f].isnull()] = data[f].dropna().median()\n",
      "    return data.drop(['Name','Sex','Ticket','PassengerId','Cabin'],axis=1)\n",
      "\n",
      "\n",
      "from sklearn.feature_selection import SelectKBest, chi2\n",
      "\n",
      "feat_sel = SelectKBest(chi2, 6)\n",
      "\n",
      "m_dict = {}\n",
      "y = train['Survived']\n",
      "X = feat_sel.fit_transform(pre_prosess(train, m_dict).drop(['Survived'], axis=1), y)\n",
      "\n",
      "\n",
      "from sklearn.linear_model import LogisticRegression\n",
      "from sklearn.grid_search import GridSearchCV\n",
      "\n",
      "params = {'C':[0.01,0.1,1,10,30,100,300,1e3,1e4,1e5,1e6],\n",
      "          'penalty':['l1','l2']}\n",
      "clf = GridSearchCV(LogisticRegression(max_iter=200), params)\n",
      "clf.fit(X, y)\n",
      "\n",
      "print clf.best_params_ , clf.best_score_\n",
      "\n",
      "\n",
      "\n",
      "\n",
      "passengerId = test['PassengerId']\n",
      "X_test = feat_sel.transform(pre_prosess(test, m_dict))\n",
      "\n",
      "\n",
      "y_pred = clf.predict(X_test).astype(int)\n",
      "\n",
      "fd = open('predict_logistic.csv','wb')\n",
      "pred_f = csv.writer(fd)\n",
      "pred_f.writerow([\"PassengerId\",\"Survived\"])\n",
      "pred_f.writerows(zip(passengerId, y_pred))\n",
      "fd.close()\n",
      "\n"
     ],
     "language": "python",
     "metadata": {},
     "outputs": [
      {
       "output_type": "stream",
       "stream": "stdout",
       "text": [
        "(891, 12) (418, 11)\n",
        "{'penalty': 'l1', 'C': 1}"
       ]
      },
      {
       "output_type": "stream",
       "stream": "stdout",
       "text": [
        " 0.791245791246\n"
       ]
      }
     ],
     "prompt_number": 210
    },
    {
     "cell_type": "code",
     "collapsed": false,
     "input": [
      "import numpy as np\n",
      "import csv\n",
      "import pandas as pd\n",
      "\n",
      "\n",
      "train = pd.read_csv('train.csv',sep=',',header=0)\n",
      "test = pd.read_csv('test.csv',sep=',',header=0)\n",
      "print train.shape, test.shape\n",
      "\n",
      "\n",
      "\n",
      "def pre_prosess(data, m_dict):\n",
      "    data['Gender'] = data['Sex'].map({'male':1,'female':0})\n",
      "    \n",
      "    fields = ['Embarked']\n",
      "    for f in fields:\n",
      "        \n",
      "        if len(data[f][data[f].isnull()])>0:\n",
      "            data[f][data[f].isnull()] = data[f].dropna().mode().values[0]\n",
      "            #print data[f].dropna().mode().values[0]\n",
      "        \n",
      "        if f not in m_dict:\n",
      "            m = list(enumerate(np.unique(data[f])))    \n",
      "            m_dict[f] = { name : i for i, name in m } \n",
      "        # print m_dict,len(data[f][data[f].isnull()]), data[f].dropna().mode()\n",
      "        data[f] = data[f].map(m_dict[f]).astype(int)\n",
      "        \n",
      "    fields = ['Age','Fare']\n",
      "    for f in fields:\n",
      "        if len(data[f][data[f].isnull()])>0:\n",
      "            data[f][data[f].isnull()] = data[f].dropna().median()\n",
      "    return data.drop(['Name','Sex','Ticket','PassengerId','Cabin'],axis=1)\n",
      "\n",
      "\n",
      "from sklearn.feature_selection import SelectKBest, chi2\n",
      "\n",
      "feat_sel = SelectKBest(chi2, 6)\n",
      "\n",
      "m_dict = {}\n",
      "y = train['Survived']\n",
      "X = feat_sel.fit_transform(pre_prosess(train, m_dict).drop(['Survived'], axis=1), y)\n",
      "\n",
      "\n",
      "from sklearn.svm import SVC\n",
      "from sklearn.grid_search import GridSearchCV\n",
      "\n",
      "params = {'C':[1e-3, 0.01,0.1,1,10,30,100,300,1e3,1e4,1e5,1e6]}\n",
      "clf = GridSearchCV(SVC(kernel='linear'), params)\n",
      "clf.fit(X, y)\n",
      "\n",
      "print clf.best_params_ , clf.best_score_\n",
      "\n",
      "\n",
      "\n",
      "\n",
      "passengerId = test['PassengerId']\n",
      "X_test = feat_sel.transform(pre_prosess(test, m_dict))\n",
      "\n",
      "\n",
      "y_pred = clf.predict(X_test).astype(int)\n",
      "\n",
      "fd = open('predict_svm.csv','wb')\n",
      "pred_f = csv.writer(fd)\n",
      "pred_f.writerow([\"PassengerId\",\"Survived\"])\n",
      "pred_f.writerows(zip(passengerId, y_pred))\n",
      "fd.close()\n",
      "\n"
     ],
     "language": "python",
     "metadata": {},
     "outputs": []
    },
    {
     "cell_type": "code",
     "collapsed": false,
     "input": [
      "X_test"
     ],
     "language": "python",
     "metadata": {},
     "outputs": [
      {
       "html": [
        "<div style=\"max-height:1000px;max-width:1500px;overflow:auto;\">\n",
        "<table border=\"1\" class=\"dataframe\">\n",
        "  <thead>\n",
        "    <tr style=\"text-align: right;\">\n",
        "      <th></th>\n",
        "      <th>Pclass</th>\n",
        "      <th>Age</th>\n",
        "      <th>SibSp</th>\n",
        "      <th>Parch</th>\n",
        "      <th>Fare</th>\n",
        "      <th>Embarked</th>\n",
        "      <th>Gender</th>\n",
        "    </tr>\n",
        "  </thead>\n",
        "  <tbody>\n",
        "    <tr>\n",
        "      <th>0  </th>\n",
        "      <td> 3</td>\n",
        "      <td> 34.5</td>\n",
        "      <td> 0</td>\n",
        "      <td> 0</td>\n",
        "      <td>   7.8292</td>\n",
        "      <td> 1</td>\n",
        "      <td> 1</td>\n",
        "    </tr>\n",
        "    <tr>\n",
        "      <th>1  </th>\n",
        "      <td> 3</td>\n",
        "      <td> 47.0</td>\n",
        "      <td> 1</td>\n",
        "      <td> 0</td>\n",
        "      <td>   7.0000</td>\n",
        "      <td> 2</td>\n",
        "      <td> 0</td>\n",
        "    </tr>\n",
        "    <tr>\n",
        "      <th>2  </th>\n",
        "      <td> 2</td>\n",
        "      <td> 62.0</td>\n",
        "      <td> 0</td>\n",
        "      <td> 0</td>\n",
        "      <td>   9.6875</td>\n",
        "      <td> 1</td>\n",
        "      <td> 1</td>\n",
        "    </tr>\n",
        "    <tr>\n",
        "      <th>3  </th>\n",
        "      <td> 3</td>\n",
        "      <td> 27.0</td>\n",
        "      <td> 0</td>\n",
        "      <td> 0</td>\n",
        "      <td>   8.6625</td>\n",
        "      <td> 2</td>\n",
        "      <td> 1</td>\n",
        "    </tr>\n",
        "    <tr>\n",
        "      <th>4  </th>\n",
        "      <td> 3</td>\n",
        "      <td> 22.0</td>\n",
        "      <td> 1</td>\n",
        "      <td> 1</td>\n",
        "      <td>  12.2875</td>\n",
        "      <td> 2</td>\n",
        "      <td> 0</td>\n",
        "    </tr>\n",
        "    <tr>\n",
        "      <th>5  </th>\n",
        "      <td> 3</td>\n",
        "      <td> 14.0</td>\n",
        "      <td> 0</td>\n",
        "      <td> 0</td>\n",
        "      <td>   9.2250</td>\n",
        "      <td> 2</td>\n",
        "      <td> 1</td>\n",
        "    </tr>\n",
        "    <tr>\n",
        "      <th>6  </th>\n",
        "      <td> 3</td>\n",
        "      <td> 30.0</td>\n",
        "      <td> 0</td>\n",
        "      <td> 0</td>\n",
        "      <td>   7.6292</td>\n",
        "      <td> 1</td>\n",
        "      <td> 0</td>\n",
        "    </tr>\n",
        "    <tr>\n",
        "      <th>7  </th>\n",
        "      <td> 2</td>\n",
        "      <td> 26.0</td>\n",
        "      <td> 1</td>\n",
        "      <td> 1</td>\n",
        "      <td>  29.0000</td>\n",
        "      <td> 2</td>\n",
        "      <td> 1</td>\n",
        "    </tr>\n",
        "    <tr>\n",
        "      <th>8  </th>\n",
        "      <td> 3</td>\n",
        "      <td> 18.0</td>\n",
        "      <td> 0</td>\n",
        "      <td> 0</td>\n",
        "      <td>   7.2292</td>\n",
        "      <td> 0</td>\n",
        "      <td> 0</td>\n",
        "    </tr>\n",
        "    <tr>\n",
        "      <th>9  </th>\n",
        "      <td> 3</td>\n",
        "      <td> 21.0</td>\n",
        "      <td> 2</td>\n",
        "      <td> 0</td>\n",
        "      <td>  24.1500</td>\n",
        "      <td> 2</td>\n",
        "      <td> 1</td>\n",
        "    </tr>\n",
        "    <tr>\n",
        "      <th>10 </th>\n",
        "      <td> 3</td>\n",
        "      <td> 27.0</td>\n",
        "      <td> 0</td>\n",
        "      <td> 0</td>\n",
        "      <td>   7.8958</td>\n",
        "      <td> 2</td>\n",
        "      <td> 1</td>\n",
        "    </tr>\n",
        "    <tr>\n",
        "      <th>11 </th>\n",
        "      <td> 1</td>\n",
        "      <td> 46.0</td>\n",
        "      <td> 0</td>\n",
        "      <td> 0</td>\n",
        "      <td>  26.0000</td>\n",
        "      <td> 2</td>\n",
        "      <td> 1</td>\n",
        "    </tr>\n",
        "    <tr>\n",
        "      <th>12 </th>\n",
        "      <td> 1</td>\n",
        "      <td> 23.0</td>\n",
        "      <td> 1</td>\n",
        "      <td> 0</td>\n",
        "      <td>  82.2667</td>\n",
        "      <td> 2</td>\n",
        "      <td> 0</td>\n",
        "    </tr>\n",
        "    <tr>\n",
        "      <th>13 </th>\n",
        "      <td> 2</td>\n",
        "      <td> 63.0</td>\n",
        "      <td> 1</td>\n",
        "      <td> 0</td>\n",
        "      <td>  26.0000</td>\n",
        "      <td> 2</td>\n",
        "      <td> 1</td>\n",
        "    </tr>\n",
        "    <tr>\n",
        "      <th>14 </th>\n",
        "      <td> 1</td>\n",
        "      <td> 47.0</td>\n",
        "      <td> 1</td>\n",
        "      <td> 0</td>\n",
        "      <td>  61.1750</td>\n",
        "      <td> 2</td>\n",
        "      <td> 0</td>\n",
        "    </tr>\n",
        "    <tr>\n",
        "      <th>15 </th>\n",
        "      <td> 2</td>\n",
        "      <td> 24.0</td>\n",
        "      <td> 1</td>\n",
        "      <td> 0</td>\n",
        "      <td>  27.7208</td>\n",
        "      <td> 0</td>\n",
        "      <td> 0</td>\n",
        "    </tr>\n",
        "    <tr>\n",
        "      <th>16 </th>\n",
        "      <td> 2</td>\n",
        "      <td> 35.0</td>\n",
        "      <td> 0</td>\n",
        "      <td> 0</td>\n",
        "      <td>  12.3500</td>\n",
        "      <td> 1</td>\n",
        "      <td> 1</td>\n",
        "    </tr>\n",
        "    <tr>\n",
        "      <th>17 </th>\n",
        "      <td> 3</td>\n",
        "      <td> 21.0</td>\n",
        "      <td> 0</td>\n",
        "      <td> 0</td>\n",
        "      <td>   7.2250</td>\n",
        "      <td> 0</td>\n",
        "      <td> 1</td>\n",
        "    </tr>\n",
        "    <tr>\n",
        "      <th>18 </th>\n",
        "      <td> 3</td>\n",
        "      <td> 27.0</td>\n",
        "      <td> 1</td>\n",
        "      <td> 0</td>\n",
        "      <td>   7.9250</td>\n",
        "      <td> 2</td>\n",
        "      <td> 0</td>\n",
        "    </tr>\n",
        "    <tr>\n",
        "      <th>19 </th>\n",
        "      <td> 3</td>\n",
        "      <td> 45.0</td>\n",
        "      <td> 0</td>\n",
        "      <td> 0</td>\n",
        "      <td>   7.2250</td>\n",
        "      <td> 0</td>\n",
        "      <td> 0</td>\n",
        "    </tr>\n",
        "    <tr>\n",
        "      <th>20 </th>\n",
        "      <td> 1</td>\n",
        "      <td> 55.0</td>\n",
        "      <td> 1</td>\n",
        "      <td> 0</td>\n",
        "      <td>  59.4000</td>\n",
        "      <td> 0</td>\n",
        "      <td> 1</td>\n",
        "    </tr>\n",
        "    <tr>\n",
        "      <th>21 </th>\n",
        "      <td> 3</td>\n",
        "      <td>  9.0</td>\n",
        "      <td> 0</td>\n",
        "      <td> 1</td>\n",
        "      <td>   3.1708</td>\n",
        "      <td> 2</td>\n",
        "      <td> 1</td>\n",
        "    </tr>\n",
        "    <tr>\n",
        "      <th>22 </th>\n",
        "      <td> 1</td>\n",
        "      <td> 27.0</td>\n",
        "      <td> 0</td>\n",
        "      <td> 0</td>\n",
        "      <td>  31.6833</td>\n",
        "      <td> 2</td>\n",
        "      <td> 0</td>\n",
        "    </tr>\n",
        "    <tr>\n",
        "      <th>23 </th>\n",
        "      <td> 1</td>\n",
        "      <td> 21.0</td>\n",
        "      <td> 0</td>\n",
        "      <td> 1</td>\n",
        "      <td>  61.3792</td>\n",
        "      <td> 0</td>\n",
        "      <td> 1</td>\n",
        "    </tr>\n",
        "    <tr>\n",
        "      <th>24 </th>\n",
        "      <td> 1</td>\n",
        "      <td> 48.0</td>\n",
        "      <td> 1</td>\n",
        "      <td> 3</td>\n",
        "      <td> 262.3750</td>\n",
        "      <td> 0</td>\n",
        "      <td> 0</td>\n",
        "    </tr>\n",
        "    <tr>\n",
        "      <th>25 </th>\n",
        "      <td> 3</td>\n",
        "      <td> 50.0</td>\n",
        "      <td> 1</td>\n",
        "      <td> 0</td>\n",
        "      <td>  14.5000</td>\n",
        "      <td> 2</td>\n",
        "      <td> 1</td>\n",
        "    </tr>\n",
        "    <tr>\n",
        "      <th>26 </th>\n",
        "      <td> 1</td>\n",
        "      <td> 22.0</td>\n",
        "      <td> 0</td>\n",
        "      <td> 1</td>\n",
        "      <td>  61.9792</td>\n",
        "      <td> 0</td>\n",
        "      <td> 0</td>\n",
        "    </tr>\n",
        "    <tr>\n",
        "      <th>27 </th>\n",
        "      <td> 3</td>\n",
        "      <td> 22.5</td>\n",
        "      <td> 0</td>\n",
        "      <td> 0</td>\n",
        "      <td>   7.2250</td>\n",
        "      <td> 0</td>\n",
        "      <td> 1</td>\n",
        "    </tr>\n",
        "    <tr>\n",
        "      <th>28 </th>\n",
        "      <td> 1</td>\n",
        "      <td> 41.0</td>\n",
        "      <td> 0</td>\n",
        "      <td> 0</td>\n",
        "      <td>  30.5000</td>\n",
        "      <td> 2</td>\n",
        "      <td> 1</td>\n",
        "    </tr>\n",
        "    <tr>\n",
        "      <th>29 </th>\n",
        "      <td> 3</td>\n",
        "      <td> 27.0</td>\n",
        "      <td> 2</td>\n",
        "      <td> 0</td>\n",
        "      <td>  21.6792</td>\n",
        "      <td> 0</td>\n",
        "      <td> 1</td>\n",
        "    </tr>\n",
        "    <tr>\n",
        "      <th>...</th>\n",
        "      <td>...</td>\n",
        "      <td>...</td>\n",
        "      <td>...</td>\n",
        "      <td>...</td>\n",
        "      <td>...</td>\n",
        "      <td>...</td>\n",
        "      <td>...</td>\n",
        "    </tr>\n",
        "    <tr>\n",
        "      <th>388</th>\n",
        "      <td> 3</td>\n",
        "      <td> 21.0</td>\n",
        "      <td> 0</td>\n",
        "      <td> 0</td>\n",
        "      <td>   7.7500</td>\n",
        "      <td> 1</td>\n",
        "      <td> 1</td>\n",
        "    </tr>\n",
        "    <tr>\n",
        "      <th>389</th>\n",
        "      <td> 3</td>\n",
        "      <td>  6.0</td>\n",
        "      <td> 3</td>\n",
        "      <td> 1</td>\n",
        "      <td>  21.0750</td>\n",
        "      <td> 2</td>\n",
        "      <td> 1</td>\n",
        "    </tr>\n",
        "    <tr>\n",
        "      <th>390</th>\n",
        "      <td> 1</td>\n",
        "      <td> 23.0</td>\n",
        "      <td> 0</td>\n",
        "      <td> 0</td>\n",
        "      <td>  93.5000</td>\n",
        "      <td> 2</td>\n",
        "      <td> 1</td>\n",
        "    </tr>\n",
        "    <tr>\n",
        "      <th>391</th>\n",
        "      <td> 1</td>\n",
        "      <td> 51.0</td>\n",
        "      <td> 0</td>\n",
        "      <td> 1</td>\n",
        "      <td>  39.4000</td>\n",
        "      <td> 2</td>\n",
        "      <td> 0</td>\n",
        "    </tr>\n",
        "    <tr>\n",
        "      <th>392</th>\n",
        "      <td> 3</td>\n",
        "      <td> 13.0</td>\n",
        "      <td> 0</td>\n",
        "      <td> 2</td>\n",
        "      <td>  20.2500</td>\n",
        "      <td> 2</td>\n",
        "      <td> 1</td>\n",
        "    </tr>\n",
        "    <tr>\n",
        "      <th>393</th>\n",
        "      <td> 2</td>\n",
        "      <td> 47.0</td>\n",
        "      <td> 0</td>\n",
        "      <td> 0</td>\n",
        "      <td>  10.5000</td>\n",
        "      <td> 2</td>\n",
        "      <td> 1</td>\n",
        "    </tr>\n",
        "    <tr>\n",
        "      <th>394</th>\n",
        "      <td> 3</td>\n",
        "      <td> 29.0</td>\n",
        "      <td> 3</td>\n",
        "      <td> 1</td>\n",
        "      <td>  22.0250</td>\n",
        "      <td> 2</td>\n",
        "      <td> 1</td>\n",
        "    </tr>\n",
        "    <tr>\n",
        "      <th>395</th>\n",
        "      <td> 1</td>\n",
        "      <td> 18.0</td>\n",
        "      <td> 1</td>\n",
        "      <td> 0</td>\n",
        "      <td>  60.0000</td>\n",
        "      <td> 2</td>\n",
        "      <td> 0</td>\n",
        "    </tr>\n",
        "    <tr>\n",
        "      <th>396</th>\n",
        "      <td> 3</td>\n",
        "      <td> 24.0</td>\n",
        "      <td> 0</td>\n",
        "      <td> 0</td>\n",
        "      <td>   7.2500</td>\n",
        "      <td> 1</td>\n",
        "      <td> 1</td>\n",
        "    </tr>\n",
        "    <tr>\n",
        "      <th>397</th>\n",
        "      <td> 1</td>\n",
        "      <td> 48.0</td>\n",
        "      <td> 1</td>\n",
        "      <td> 1</td>\n",
        "      <td>  79.2000</td>\n",
        "      <td> 0</td>\n",
        "      <td> 0</td>\n",
        "    </tr>\n",
        "    <tr>\n",
        "      <th>398</th>\n",
        "      <td> 3</td>\n",
        "      <td> 22.0</td>\n",
        "      <td> 0</td>\n",
        "      <td> 0</td>\n",
        "      <td>   7.7750</td>\n",
        "      <td> 2</td>\n",
        "      <td> 1</td>\n",
        "    </tr>\n",
        "    <tr>\n",
        "      <th>399</th>\n",
        "      <td> 3</td>\n",
        "      <td> 31.0</td>\n",
        "      <td> 0</td>\n",
        "      <td> 0</td>\n",
        "      <td>   7.7333</td>\n",
        "      <td> 1</td>\n",
        "      <td> 1</td>\n",
        "    </tr>\n",
        "    <tr>\n",
        "      <th>400</th>\n",
        "      <td> 1</td>\n",
        "      <td> 30.0</td>\n",
        "      <td> 0</td>\n",
        "      <td> 0</td>\n",
        "      <td> 164.8667</td>\n",
        "      <td> 2</td>\n",
        "      <td> 0</td>\n",
        "    </tr>\n",
        "    <tr>\n",
        "      <th>401</th>\n",
        "      <td> 2</td>\n",
        "      <td> 38.0</td>\n",
        "      <td> 1</td>\n",
        "      <td> 0</td>\n",
        "      <td>  21.0000</td>\n",
        "      <td> 2</td>\n",
        "      <td> 1</td>\n",
        "    </tr>\n",
        "    <tr>\n",
        "      <th>402</th>\n",
        "      <td> 1</td>\n",
        "      <td> 22.0</td>\n",
        "      <td> 0</td>\n",
        "      <td> 1</td>\n",
        "      <td>  59.4000</td>\n",
        "      <td> 0</td>\n",
        "      <td> 0</td>\n",
        "    </tr>\n",
        "    <tr>\n",
        "      <th>403</th>\n",
        "      <td> 1</td>\n",
        "      <td> 17.0</td>\n",
        "      <td> 0</td>\n",
        "      <td> 0</td>\n",
        "      <td>  47.1000</td>\n",
        "      <td> 2</td>\n",
        "      <td> 1</td>\n",
        "    </tr>\n",
        "    <tr>\n",
        "      <th>404</th>\n",
        "      <td> 1</td>\n",
        "      <td> 43.0</td>\n",
        "      <td> 1</td>\n",
        "      <td> 0</td>\n",
        "      <td>  27.7208</td>\n",
        "      <td> 0</td>\n",
        "      <td> 1</td>\n",
        "    </tr>\n",
        "    <tr>\n",
        "      <th>405</th>\n",
        "      <td> 2</td>\n",
        "      <td> 20.0</td>\n",
        "      <td> 0</td>\n",
        "      <td> 0</td>\n",
        "      <td>  13.8625</td>\n",
        "      <td> 0</td>\n",
        "      <td> 1</td>\n",
        "    </tr>\n",
        "    <tr>\n",
        "      <th>406</th>\n",
        "      <td> 2</td>\n",
        "      <td> 23.0</td>\n",
        "      <td> 1</td>\n",
        "      <td> 0</td>\n",
        "      <td>  10.5000</td>\n",
        "      <td> 2</td>\n",
        "      <td> 1</td>\n",
        "    </tr>\n",
        "    <tr>\n",
        "      <th>407</th>\n",
        "      <td> 1</td>\n",
        "      <td> 50.0</td>\n",
        "      <td> 1</td>\n",
        "      <td> 1</td>\n",
        "      <td> 211.5000</td>\n",
        "      <td> 0</td>\n",
        "      <td> 1</td>\n",
        "    </tr>\n",
        "    <tr>\n",
        "      <th>408</th>\n",
        "      <td> 3</td>\n",
        "      <td> 27.0</td>\n",
        "      <td> 0</td>\n",
        "      <td> 0</td>\n",
        "      <td>   7.7208</td>\n",
        "      <td> 1</td>\n",
        "      <td> 0</td>\n",
        "    </tr>\n",
        "    <tr>\n",
        "      <th>409</th>\n",
        "      <td> 3</td>\n",
        "      <td>  3.0</td>\n",
        "      <td> 1</td>\n",
        "      <td> 1</td>\n",
        "      <td>  13.7750</td>\n",
        "      <td> 2</td>\n",
        "      <td> 0</td>\n",
        "    </tr>\n",
        "    <tr>\n",
        "      <th>410</th>\n",
        "      <td> 3</td>\n",
        "      <td> 27.0</td>\n",
        "      <td> 0</td>\n",
        "      <td> 0</td>\n",
        "      <td>   7.7500</td>\n",
        "      <td> 1</td>\n",
        "      <td> 0</td>\n",
        "    </tr>\n",
        "    <tr>\n",
        "      <th>411</th>\n",
        "      <td> 1</td>\n",
        "      <td> 37.0</td>\n",
        "      <td> 1</td>\n",
        "      <td> 0</td>\n",
        "      <td>  90.0000</td>\n",
        "      <td> 1</td>\n",
        "      <td> 0</td>\n",
        "    </tr>\n",
        "    <tr>\n",
        "      <th>412</th>\n",
        "      <td> 3</td>\n",
        "      <td> 28.0</td>\n",
        "      <td> 0</td>\n",
        "      <td> 0</td>\n",
        "      <td>   7.7750</td>\n",
        "      <td> 2</td>\n",
        "      <td> 0</td>\n",
        "    </tr>\n",
        "    <tr>\n",
        "      <th>413</th>\n",
        "      <td> 3</td>\n",
        "      <td> 27.0</td>\n",
        "      <td> 0</td>\n",
        "      <td> 0</td>\n",
        "      <td>   8.0500</td>\n",
        "      <td> 2</td>\n",
        "      <td> 1</td>\n",
        "    </tr>\n",
        "    <tr>\n",
        "      <th>414</th>\n",
        "      <td> 1</td>\n",
        "      <td> 39.0</td>\n",
        "      <td> 0</td>\n",
        "      <td> 0</td>\n",
        "      <td> 108.9000</td>\n",
        "      <td> 0</td>\n",
        "      <td> 0</td>\n",
        "    </tr>\n",
        "    <tr>\n",
        "      <th>415</th>\n",
        "      <td> 3</td>\n",
        "      <td> 38.5</td>\n",
        "      <td> 0</td>\n",
        "      <td> 0</td>\n",
        "      <td>   7.2500</td>\n",
        "      <td> 2</td>\n",
        "      <td> 1</td>\n",
        "    </tr>\n",
        "    <tr>\n",
        "      <th>416</th>\n",
        "      <td> 3</td>\n",
        "      <td> 27.0</td>\n",
        "      <td> 0</td>\n",
        "      <td> 0</td>\n",
        "      <td>   8.0500</td>\n",
        "      <td> 2</td>\n",
        "      <td> 1</td>\n",
        "    </tr>\n",
        "    <tr>\n",
        "      <th>417</th>\n",
        "      <td> 3</td>\n",
        "      <td> 27.0</td>\n",
        "      <td> 1</td>\n",
        "      <td> 1</td>\n",
        "      <td>  22.3583</td>\n",
        "      <td> 0</td>\n",
        "      <td> 1</td>\n",
        "    </tr>\n",
        "  </tbody>\n",
        "</table>\n",
        "<p>418 rows \u00d7 7 columns</p>\n",
        "</div>"
       ],
       "metadata": {},
       "output_type": "pyout",
       "prompt_number": 203,
       "text": [
        "     Pclass   Age  SibSp  Parch      Fare  Embarked  Gender\n",
        "0         3  34.5      0      0    7.8292         1       1\n",
        "1         3  47.0      1      0    7.0000         2       0\n",
        "2         2  62.0      0      0    9.6875         1       1\n",
        "3         3  27.0      0      0    8.6625         2       1\n",
        "4         3  22.0      1      1   12.2875         2       0\n",
        "5         3  14.0      0      0    9.2250         2       1\n",
        "6         3  30.0      0      0    7.6292         1       0\n",
        "7         2  26.0      1      1   29.0000         2       1\n",
        "8         3  18.0      0      0    7.2292         0       0\n",
        "9         3  21.0      2      0   24.1500         2       1\n",
        "10        3  27.0      0      0    7.8958         2       1\n",
        "11        1  46.0      0      0   26.0000         2       1\n",
        "12        1  23.0      1      0   82.2667         2       0\n",
        "13        2  63.0      1      0   26.0000         2       1\n",
        "14        1  47.0      1      0   61.1750         2       0\n",
        "15        2  24.0      1      0   27.7208         0       0\n",
        "16        2  35.0      0      0   12.3500         1       1\n",
        "17        3  21.0      0      0    7.2250         0       1\n",
        "18        3  27.0      1      0    7.9250         2       0\n",
        "19        3  45.0      0      0    7.2250         0       0\n",
        "20        1  55.0      1      0   59.4000         0       1\n",
        "21        3   9.0      0      1    3.1708         2       1\n",
        "22        1  27.0      0      0   31.6833         2       0\n",
        "23        1  21.0      0      1   61.3792         0       1\n",
        "24        1  48.0      1      3  262.3750         0       0\n",
        "25        3  50.0      1      0   14.5000         2       1\n",
        "26        1  22.0      0      1   61.9792         0       0\n",
        "27        3  22.5      0      0    7.2250         0       1\n",
        "28        1  41.0      0      0   30.5000         2       1\n",
        "29        3  27.0      2      0   21.6792         0       1\n",
        "..      ...   ...    ...    ...       ...       ...     ...\n",
        "388       3  21.0      0      0    7.7500         1       1\n",
        "389       3   6.0      3      1   21.0750         2       1\n",
        "390       1  23.0      0      0   93.5000         2       1\n",
        "391       1  51.0      0      1   39.4000         2       0\n",
        "392       3  13.0      0      2   20.2500         2       1\n",
        "393       2  47.0      0      0   10.5000         2       1\n",
        "394       3  29.0      3      1   22.0250         2       1\n",
        "395       1  18.0      1      0   60.0000         2       0\n",
        "396       3  24.0      0      0    7.2500         1       1\n",
        "397       1  48.0      1      1   79.2000         0       0\n",
        "398       3  22.0      0      0    7.7750         2       1\n",
        "399       3  31.0      0      0    7.7333         1       1\n",
        "400       1  30.0      0      0  164.8667         2       0\n",
        "401       2  38.0      1      0   21.0000         2       1\n",
        "402       1  22.0      0      1   59.4000         0       0\n",
        "403       1  17.0      0      0   47.1000         2       1\n",
        "404       1  43.0      1      0   27.7208         0       1\n",
        "405       2  20.0      0      0   13.8625         0       1\n",
        "406       2  23.0      1      0   10.5000         2       1\n",
        "407       1  50.0      1      1  211.5000         0       1\n",
        "408       3  27.0      0      0    7.7208         1       0\n",
        "409       3   3.0      1      1   13.7750         2       0\n",
        "410       3  27.0      0      0    7.7500         1       0\n",
        "411       1  37.0      1      0   90.0000         1       0\n",
        "412       3  28.0      0      0    7.7750         2       0\n",
        "413       3  27.0      0      0    8.0500         2       1\n",
        "414       1  39.0      0      0  108.9000         0       0\n",
        "415       3  38.5      0      0    7.2500         2       1\n",
        "416       3  27.0      0      0    8.0500         2       1\n",
        "417       3  27.0      1      1   22.3583         0       1\n",
        "\n",
        "[418 rows x 7 columns]"
       ]
      }
     ],
     "prompt_number": 203
    },
    {
     "cell_type": "code",
     "collapsed": false,
     "input": [
      "m_dict = {}\n",
      "X = pre_prosess(train, m_dict).drop(['Survived'], axis=1)\n",
      "y = train['Survived']"
     ],
     "language": "python",
     "metadata": {},
     "outputs": [],
     "prompt_number": 187
    },
    {
     "cell_type": "code",
     "collapsed": false,
     "input": [
      "from sklearn.linear_model import LogisticRegression\n",
      "from sklearn.grid_search import GridSearchCV\n",
      "\n",
      "params = {'C':[0.01,0.1,1,10,30,100,300,1e3,1e4,1e5,1e6]}\n",
      "clf = GridSearchCV(LogisticRegression(max_iter=200), params)\n",
      "clf.fit(X, y)\n"
     ],
     "language": "python",
     "metadata": {},
     "outputs": [
      {
       "metadata": {},
       "output_type": "pyout",
       "prompt_number": 188,
       "text": [
        "GridSearchCV(cv=None, error_score='raise',\n",
        "       estimator=LogisticRegression(C=1.0, class_weight=None, dual=False, fit_intercept=True,\n",
        "          intercept_scaling=1, max_iter=200, multi_class='ovr',\n",
        "          penalty='l2', random_state=None, solver='liblinear', tol=0.0001,\n",
        "          verbose=0),\n",
        "       fit_params={}, iid=True, loss_func=None, n_jobs=1,\n",
        "       param_grid={'C': [0.01, 0.1, 1, 10, 30, 100, 300, 1000.0, 10000.0, 100000.0, 1000000.0]},\n",
        "       pre_dispatch='2*n_jobs', refit=True, score_func=None, scoring=None,\n",
        "       verbose=0)"
       ]
      }
     ],
     "prompt_number": 188
    },
    {
     "cell_type": "code",
     "collapsed": false,
     "input": [
      "print clf.best_params_ , clf.best_score_\n",
      "print X"
     ],
     "language": "python",
     "metadata": {},
     "outputs": [
      {
       "output_type": "stream",
       "stream": "stdout",
       "text": [
        "{'C': 1} 0.802469135802\n",
        "     Pclass  SibSp  Gender\n",
        "0         3      1       1\n",
        "1         1      1       0\n",
        "2         3      0       0\n",
        "3         1      1       0\n",
        "4         3      0       1\n",
        "5         3      0       1\n",
        "6         1      0       1\n",
        "7         3      3       1\n",
        "8         3      0       0\n",
        "9         2      1       0\n",
        "10        3      1       0\n",
        "11        1      0       0\n",
        "12        3      0       1\n",
        "13        3      1       1\n",
        "14        3      0       0\n",
        "15        2      0       0\n",
        "16        3      4       1\n",
        "17        2      0       1\n",
        "18        3      1       0\n",
        "19        3      0       0\n",
        "20        2      0       1\n",
        "21        2      0       1\n",
        "22        3      0       0\n",
        "23        1      0       1\n",
        "24        3      3       0\n",
        "25        3      1       0\n",
        "26        3      0       1\n",
        "27        1      3       1\n",
        "28        3      0       0\n",
        "29        3      0       1\n",
        "..      ...    ...     ...\n",
        "861       2      1       1\n",
        "862       1      0       0\n",
        "863       3      8       0\n",
        "864       2      0       1\n",
        "865       2      0       0\n",
        "866       2      1       0\n",
        "867       1      0       1\n",
        "868       3      0       1\n",
        "869       3      1       1\n",
        "870       3      0       1\n",
        "871       1      1       0\n",
        "872       1      0       1\n",
        "873       3      0       1\n",
        "874       2      1       0\n",
        "875       3      0       0\n",
        "876       3      0       1\n",
        "877       3      0       1\n",
        "878       3      0       1\n",
        "879       1      0       0\n",
        "880       2      0       0\n",
        "881       3      0       1\n",
        "882       3      0       0\n",
        "883       2      0       1\n",
        "884       3      0       1\n",
        "885       3      0       0\n",
        "886       2      0       1\n",
        "887       1      0       0\n",
        "888       3      1       0\n",
        "889       1      0       1\n",
        "890       3      0       1\n",
        "\n",
        "[891 rows x 3 columns]\n"
       ]
      }
     ],
     "prompt_number": 189
    },
    {
     "cell_type": "code",
     "collapsed": false,
     "input": [
      "passengerId = test['PassengerId']\n",
      "X_test = pre_prosess(test, m_dict)\n",
      "\n",
      "\n",
      "y_pred = clf.predict(X_test).astype(int)\n",
      "\n",
      "fd = open('predict_logistic.csv','wb')\n",
      "pred_f = csv.writer(fd)\n",
      "pred_f.writerow([\"PassengerId\",\"Survived\"])\n",
      "pred_f.writerows(zip(passengerId, y_pred))\n",
      "fd.close()"
     ],
     "language": "python",
     "metadata": {},
     "outputs": [],
     "prompt_number": 191
    },
    {
     "cell_type": "code",
     "collapsed": false,
     "input": [
      "X_test"
     ],
     "language": "python",
     "metadata": {},
     "outputs": [
      {
       "html": [
        "<div style=\"max-height:1000px;max-width:1500px;overflow:auto;\">\n",
        "<table border=\"1\" class=\"dataframe\">\n",
        "  <thead>\n",
        "    <tr style=\"text-align: right;\">\n",
        "      <th></th>\n",
        "      <th>Pclass</th>\n",
        "      <th>SibSp</th>\n",
        "      <th>Gender</th>\n",
        "    </tr>\n",
        "  </thead>\n",
        "  <tbody>\n",
        "    <tr>\n",
        "      <th>0  </th>\n",
        "      <td> 3</td>\n",
        "      <td> 0</td>\n",
        "      <td> 1</td>\n",
        "    </tr>\n",
        "    <tr>\n",
        "      <th>1  </th>\n",
        "      <td> 3</td>\n",
        "      <td> 1</td>\n",
        "      <td> 0</td>\n",
        "    </tr>\n",
        "    <tr>\n",
        "      <th>2  </th>\n",
        "      <td> 2</td>\n",
        "      <td> 0</td>\n",
        "      <td> 1</td>\n",
        "    </tr>\n",
        "    <tr>\n",
        "      <th>3  </th>\n",
        "      <td> 3</td>\n",
        "      <td> 0</td>\n",
        "      <td> 1</td>\n",
        "    </tr>\n",
        "    <tr>\n",
        "      <th>4  </th>\n",
        "      <td> 3</td>\n",
        "      <td> 1</td>\n",
        "      <td> 0</td>\n",
        "    </tr>\n",
        "    <tr>\n",
        "      <th>5  </th>\n",
        "      <td> 3</td>\n",
        "      <td> 0</td>\n",
        "      <td> 1</td>\n",
        "    </tr>\n",
        "    <tr>\n",
        "      <th>6  </th>\n",
        "      <td> 3</td>\n",
        "      <td> 0</td>\n",
        "      <td> 0</td>\n",
        "    </tr>\n",
        "    <tr>\n",
        "      <th>7  </th>\n",
        "      <td> 2</td>\n",
        "      <td> 1</td>\n",
        "      <td> 1</td>\n",
        "    </tr>\n",
        "    <tr>\n",
        "      <th>8  </th>\n",
        "      <td> 3</td>\n",
        "      <td> 0</td>\n",
        "      <td> 0</td>\n",
        "    </tr>\n",
        "    <tr>\n",
        "      <th>9  </th>\n",
        "      <td> 3</td>\n",
        "      <td> 2</td>\n",
        "      <td> 1</td>\n",
        "    </tr>\n",
        "    <tr>\n",
        "      <th>10 </th>\n",
        "      <td> 3</td>\n",
        "      <td> 0</td>\n",
        "      <td> 1</td>\n",
        "    </tr>\n",
        "    <tr>\n",
        "      <th>11 </th>\n",
        "      <td> 1</td>\n",
        "      <td> 0</td>\n",
        "      <td> 1</td>\n",
        "    </tr>\n",
        "    <tr>\n",
        "      <th>12 </th>\n",
        "      <td> 1</td>\n",
        "      <td> 1</td>\n",
        "      <td> 0</td>\n",
        "    </tr>\n",
        "    <tr>\n",
        "      <th>13 </th>\n",
        "      <td> 2</td>\n",
        "      <td> 1</td>\n",
        "      <td> 1</td>\n",
        "    </tr>\n",
        "    <tr>\n",
        "      <th>14 </th>\n",
        "      <td> 1</td>\n",
        "      <td> 1</td>\n",
        "      <td> 0</td>\n",
        "    </tr>\n",
        "    <tr>\n",
        "      <th>15 </th>\n",
        "      <td> 2</td>\n",
        "      <td> 1</td>\n",
        "      <td> 0</td>\n",
        "    </tr>\n",
        "    <tr>\n",
        "      <th>16 </th>\n",
        "      <td> 2</td>\n",
        "      <td> 0</td>\n",
        "      <td> 1</td>\n",
        "    </tr>\n",
        "    <tr>\n",
        "      <th>17 </th>\n",
        "      <td> 3</td>\n",
        "      <td> 0</td>\n",
        "      <td> 1</td>\n",
        "    </tr>\n",
        "    <tr>\n",
        "      <th>18 </th>\n",
        "      <td> 3</td>\n",
        "      <td> 1</td>\n",
        "      <td> 0</td>\n",
        "    </tr>\n",
        "    <tr>\n",
        "      <th>19 </th>\n",
        "      <td> 3</td>\n",
        "      <td> 0</td>\n",
        "      <td> 0</td>\n",
        "    </tr>\n",
        "    <tr>\n",
        "      <th>20 </th>\n",
        "      <td> 1</td>\n",
        "      <td> 1</td>\n",
        "      <td> 1</td>\n",
        "    </tr>\n",
        "    <tr>\n",
        "      <th>21 </th>\n",
        "      <td> 3</td>\n",
        "      <td> 0</td>\n",
        "      <td> 1</td>\n",
        "    </tr>\n",
        "    <tr>\n",
        "      <th>22 </th>\n",
        "      <td> 1</td>\n",
        "      <td> 0</td>\n",
        "      <td> 0</td>\n",
        "    </tr>\n",
        "    <tr>\n",
        "      <th>23 </th>\n",
        "      <td> 1</td>\n",
        "      <td> 0</td>\n",
        "      <td> 1</td>\n",
        "    </tr>\n",
        "    <tr>\n",
        "      <th>24 </th>\n",
        "      <td> 1</td>\n",
        "      <td> 1</td>\n",
        "      <td> 0</td>\n",
        "    </tr>\n",
        "    <tr>\n",
        "      <th>25 </th>\n",
        "      <td> 3</td>\n",
        "      <td> 1</td>\n",
        "      <td> 1</td>\n",
        "    </tr>\n",
        "    <tr>\n",
        "      <th>26 </th>\n",
        "      <td> 1</td>\n",
        "      <td> 0</td>\n",
        "      <td> 0</td>\n",
        "    </tr>\n",
        "    <tr>\n",
        "      <th>27 </th>\n",
        "      <td> 3</td>\n",
        "      <td> 0</td>\n",
        "      <td> 1</td>\n",
        "    </tr>\n",
        "    <tr>\n",
        "      <th>28 </th>\n",
        "      <td> 1</td>\n",
        "      <td> 0</td>\n",
        "      <td> 1</td>\n",
        "    </tr>\n",
        "    <tr>\n",
        "      <th>29 </th>\n",
        "      <td> 3</td>\n",
        "      <td> 2</td>\n",
        "      <td> 1</td>\n",
        "    </tr>\n",
        "    <tr>\n",
        "      <th>...</th>\n",
        "      <td>...</td>\n",
        "      <td>...</td>\n",
        "      <td>...</td>\n",
        "    </tr>\n",
        "    <tr>\n",
        "      <th>388</th>\n",
        "      <td> 3</td>\n",
        "      <td> 0</td>\n",
        "      <td> 1</td>\n",
        "    </tr>\n",
        "    <tr>\n",
        "      <th>389</th>\n",
        "      <td> 3</td>\n",
        "      <td> 3</td>\n",
        "      <td> 1</td>\n",
        "    </tr>\n",
        "    <tr>\n",
        "      <th>390</th>\n",
        "      <td> 1</td>\n",
        "      <td> 0</td>\n",
        "      <td> 1</td>\n",
        "    </tr>\n",
        "    <tr>\n",
        "      <th>391</th>\n",
        "      <td> 1</td>\n",
        "      <td> 0</td>\n",
        "      <td> 0</td>\n",
        "    </tr>\n",
        "    <tr>\n",
        "      <th>392</th>\n",
        "      <td> 3</td>\n",
        "      <td> 0</td>\n",
        "      <td> 1</td>\n",
        "    </tr>\n",
        "    <tr>\n",
        "      <th>393</th>\n",
        "      <td> 2</td>\n",
        "      <td> 0</td>\n",
        "      <td> 1</td>\n",
        "    </tr>\n",
        "    <tr>\n",
        "      <th>394</th>\n",
        "      <td> 3</td>\n",
        "      <td> 3</td>\n",
        "      <td> 1</td>\n",
        "    </tr>\n",
        "    <tr>\n",
        "      <th>395</th>\n",
        "      <td> 1</td>\n",
        "      <td> 1</td>\n",
        "      <td> 0</td>\n",
        "    </tr>\n",
        "    <tr>\n",
        "      <th>396</th>\n",
        "      <td> 3</td>\n",
        "      <td> 0</td>\n",
        "      <td> 1</td>\n",
        "    </tr>\n",
        "    <tr>\n",
        "      <th>397</th>\n",
        "      <td> 1</td>\n",
        "      <td> 1</td>\n",
        "      <td> 0</td>\n",
        "    </tr>\n",
        "    <tr>\n",
        "      <th>398</th>\n",
        "      <td> 3</td>\n",
        "      <td> 0</td>\n",
        "      <td> 1</td>\n",
        "    </tr>\n",
        "    <tr>\n",
        "      <th>399</th>\n",
        "      <td> 3</td>\n",
        "      <td> 0</td>\n",
        "      <td> 1</td>\n",
        "    </tr>\n",
        "    <tr>\n",
        "      <th>400</th>\n",
        "      <td> 1</td>\n",
        "      <td> 0</td>\n",
        "      <td> 0</td>\n",
        "    </tr>\n",
        "    <tr>\n",
        "      <th>401</th>\n",
        "      <td> 2</td>\n",
        "      <td> 1</td>\n",
        "      <td> 1</td>\n",
        "    </tr>\n",
        "    <tr>\n",
        "      <th>402</th>\n",
        "      <td> 1</td>\n",
        "      <td> 0</td>\n",
        "      <td> 0</td>\n",
        "    </tr>\n",
        "    <tr>\n",
        "      <th>403</th>\n",
        "      <td> 1</td>\n",
        "      <td> 0</td>\n",
        "      <td> 1</td>\n",
        "    </tr>\n",
        "    <tr>\n",
        "      <th>404</th>\n",
        "      <td> 1</td>\n",
        "      <td> 1</td>\n",
        "      <td> 1</td>\n",
        "    </tr>\n",
        "    <tr>\n",
        "      <th>405</th>\n",
        "      <td> 2</td>\n",
        "      <td> 0</td>\n",
        "      <td> 1</td>\n",
        "    </tr>\n",
        "    <tr>\n",
        "      <th>406</th>\n",
        "      <td> 2</td>\n",
        "      <td> 1</td>\n",
        "      <td> 1</td>\n",
        "    </tr>\n",
        "    <tr>\n",
        "      <th>407</th>\n",
        "      <td> 1</td>\n",
        "      <td> 1</td>\n",
        "      <td> 1</td>\n",
        "    </tr>\n",
        "    <tr>\n",
        "      <th>408</th>\n",
        "      <td> 3</td>\n",
        "      <td> 0</td>\n",
        "      <td> 0</td>\n",
        "    </tr>\n",
        "    <tr>\n",
        "      <th>409</th>\n",
        "      <td> 3</td>\n",
        "      <td> 1</td>\n",
        "      <td> 0</td>\n",
        "    </tr>\n",
        "    <tr>\n",
        "      <th>410</th>\n",
        "      <td> 3</td>\n",
        "      <td> 0</td>\n",
        "      <td> 0</td>\n",
        "    </tr>\n",
        "    <tr>\n",
        "      <th>411</th>\n",
        "      <td> 1</td>\n",
        "      <td> 1</td>\n",
        "      <td> 0</td>\n",
        "    </tr>\n",
        "    <tr>\n",
        "      <th>412</th>\n",
        "      <td> 3</td>\n",
        "      <td> 0</td>\n",
        "      <td> 0</td>\n",
        "    </tr>\n",
        "    <tr>\n",
        "      <th>413</th>\n",
        "      <td> 3</td>\n",
        "      <td> 0</td>\n",
        "      <td> 1</td>\n",
        "    </tr>\n",
        "    <tr>\n",
        "      <th>414</th>\n",
        "      <td> 1</td>\n",
        "      <td> 0</td>\n",
        "      <td> 0</td>\n",
        "    </tr>\n",
        "    <tr>\n",
        "      <th>415</th>\n",
        "      <td> 3</td>\n",
        "      <td> 0</td>\n",
        "      <td> 1</td>\n",
        "    </tr>\n",
        "    <tr>\n",
        "      <th>416</th>\n",
        "      <td> 3</td>\n",
        "      <td> 0</td>\n",
        "      <td> 1</td>\n",
        "    </tr>\n",
        "    <tr>\n",
        "      <th>417</th>\n",
        "      <td> 3</td>\n",
        "      <td> 1</td>\n",
        "      <td> 1</td>\n",
        "    </tr>\n",
        "  </tbody>\n",
        "</table>\n",
        "<p>418 rows \u00d7 3 columns</p>\n",
        "</div>"
       ],
       "metadata": {},
       "output_type": "pyout",
       "prompt_number": 192,
       "text": [
        "     Pclass  SibSp  Gender\n",
        "0         3      0       1\n",
        "1         3      1       0\n",
        "2         2      0       1\n",
        "3         3      0       1\n",
        "4         3      1       0\n",
        "5         3      0       1\n",
        "6         3      0       0\n",
        "7         2      1       1\n",
        "8         3      0       0\n",
        "9         3      2       1\n",
        "10        3      0       1\n",
        "11        1      0       1\n",
        "12        1      1       0\n",
        "13        2      1       1\n",
        "14        1      1       0\n",
        "15        2      1       0\n",
        "16        2      0       1\n",
        "17        3      0       1\n",
        "18        3      1       0\n",
        "19        3      0       0\n",
        "20        1      1       1\n",
        "21        3      0       1\n",
        "22        1      0       0\n",
        "23        1      0       1\n",
        "24        1      1       0\n",
        "25        3      1       1\n",
        "26        1      0       0\n",
        "27        3      0       1\n",
        "28        1      0       1\n",
        "29        3      2       1\n",
        "..      ...    ...     ...\n",
        "388       3      0       1\n",
        "389       3      3       1\n",
        "390       1      0       1\n",
        "391       1      0       0\n",
        "392       3      0       1\n",
        "393       2      0       1\n",
        "394       3      3       1\n",
        "395       1      1       0\n",
        "396       3      0       1\n",
        "397       1      1       0\n",
        "398       3      0       1\n",
        "399       3      0       1\n",
        "400       1      0       0\n",
        "401       2      1       1\n",
        "402       1      0       0\n",
        "403       1      0       1\n",
        "404       1      1       1\n",
        "405       2      0       1\n",
        "406       2      1       1\n",
        "407       1      1       1\n",
        "408       3      0       0\n",
        "409       3      1       0\n",
        "410       3      0       0\n",
        "411       1      1       0\n",
        "412       3      0       0\n",
        "413       3      0       1\n",
        "414       1      0       0\n",
        "415       3      0       1\n",
        "416       3      0       1\n",
        "417       3      1       1\n",
        "\n",
        "[418 rows x 3 columns]"
       ]
      }
     ],
     "prompt_number": 192
    },
    {
     "cell_type": "code",
     "collapsed": false,
     "input": [],
     "language": "python",
     "metadata": {},
     "outputs": []
    }
   ],
   "metadata": {}
  }
 ]
}